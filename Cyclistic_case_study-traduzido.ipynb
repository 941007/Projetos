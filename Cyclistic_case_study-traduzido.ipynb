{
 "cells": [
  {
   "cell_type": "markdown",
   "id": "930e86f2",
   "metadata": {},
   "source": [
    "# Caso de Estudo Cyclistic\n",
    "\n",
    "---\n",
    "# Introdução\n",
    "O objetivo deste projeto é entregar uma análise detalhada dos membros da empresa Cyclistic ao time de análise de marketing para criar estratégias com o intuito de obter novos membros anuais.\n",
    "\n",
    "# Descrição da Empresa Cyclistic\n",
    "A Cyclistic é uma empresa que oferece programas de bike-sharing que conta com mais de 5.800 bicicletas e 600 bicicletários. A Cyclistic se diferencia por oferecer uma série de diferentes tipos de bicicletas como reclinaveis, triciclos e até de carga fazendo assim o compartilhamento de bicicletas mais inclusivo com pessoas que possuem algum tipo de deficiência que não podem estar usufruindo do modelo padrão de duas rodas.\n",
    "\n",
    "# Fase de Perguntas\n",
    "---\n",
    "## Questões Guia\n",
    "1. De que maneira membros anuais e casuais diferem ao usar as bicicletas da Cyclistic?\n",
    "\n",
    "2. Por qual motivo membros casuals assinariam uma inscrição anual?\n",
    "\n",
    "3. Como a Cyclistic pode usar as mídias digitais para influenciar ciclistas casuals a virarem membros?\n",
    "\n",
    "## Tarefas Chave\n",
    "### Identificar o Problema de Negócios:\n",
    "O foco é capitalizar inscrições anuais pois estas são mais rentáveis do que inscrições casuais e tendem a ser a chave para o crescimento da Cyclistic. <br><br>\n",
    "### Considerar os Stakeholders Chave\n",
    "\n",
    "-   **Stakeholders Primários**\\\n",
    "    Lily Moreno: Diretora de marketing.<br>\n",
    "    Time executivo da Cylistic\n",
    "    <br><br>\n",
    "-   **Stakeholders Secundários**\\\n",
    "    Time de Análise de Marketing da Cyclistic\n",
    "    \n",
    "# Fase de Preparo\n",
    "---\n",
    "### 1. Onde os dados estão armazenados?\n",
    "Os dados podem ser encontrados em seu formato bruto neste [link](https://divvy-tripdata.s3.amazonaws.com/index.html). Os arquivos utilizados para esta análise são de 06/2021 a 05/2022.\n",
    "\n",
    "### 2. Como os dados estão organizados?\n",
    "Estão organizados em múltiplos arquivos num período de um ano. Estes arquivos são então unidos em um arquivo que contém 738MB contendo 15 colunas nos formatos a seguir: <br>\n",
    "1.\tContinuos\n",
    "    1.\tstart_lat\n",
    "    2.\tstart_lng\n",
    "    3.\tend_lat\n",
    "    4.\tend_lng\n",
    "    <br>\n",
    "    \n",
    "2.\tOrdinais\n",
    "    1.\tride_id\n",
    "    2.\tstart_station_id\n",
    "    3.\tend_station_id\n",
    "    4.\tday_of_week\n",
    "    <br>\n",
    "    \n",
    "3.\tNominais\n",
    "    1.\trideable_type\n",
    "    2.\tstart_station_name\n",
    "    3.\tend_station_name\n",
    "    4.  member_casual\n",
    "    <br>\n",
    "\n",
    "    \n",
    "4.\tQuantitativos\n",
    "    1.\tstarted_at\n",
    "    2.\tended_at\n",
    "    3.\tride_length\n",
    "\n",
    "### 3. Utilizando ROCCC para avaliar os dados\n",
    "Reliability(Confiabilidade): Os dados utilizados neste projeto são confiáveis e tem de amplo tamanho contendo 5860776 registros únicos. Não foram encontrado viés nos dados.<br><br>\n",
    "\n",
    "Originality(Originalidade): Este dataset é original, ele foi coletado dos sistemas da Cyclistic, podendo assim serem considerados dados primários.<br><br>\n",
    "Comprehensiveness(Compreensividade): A análise teria mais profundidade se houvessem registros de gênero e/ou idade dos participantes, no mais, os dados podem ser considerados como bons. <br><br>\n",
    "\n",
    "Current(Atualidade): Os dados são relevantes pois foram colectados em um período recente(no ano passado).<br><br>\n",
    "\n",
    "Cited(Fonte): Os dados foram criados e coletados nos sistemas da Cyclistic pelo marketing team da própria empresa, sendo assim considerados confiáveis.<br><br>\n",
    "\n",
    "Estes dados são considerados de boa qualidade e recomendados para a produção de análises."
   ]
  },
  {
   "cell_type": "markdown",
   "id": "d9ef0bf8",
   "metadata": {},
   "source": [
    "# Fase de Processamento\n",
    "---"
   ]
  },
  {
   "cell_type": "markdown",
   "id": "f5f6195b",
   "metadata": {},
   "source": [
    "### Carregando bibliotecas"
   ]
  },
  {
   "cell_type": "code",
   "execution_count": 1,
   "id": "607b6727",
   "metadata": {},
   "outputs": [],
   "source": [
    "import numpy as np\n",
    "import pandas as pd\n",
    "import seaborn as sns\n",
    "import matplotlib.pyplot as plt\n",
    "%matplotlib inline"
   ]
  },
  {
   "cell_type": "markdown",
   "id": "cf31bef8",
   "metadata": {},
   "source": [
    "### Carregando e Unindo datasets"
   ]
  },
  {
   "cell_type": "code",
   "execution_count": 2,
   "id": "982afd65",
   "metadata": {},
   "outputs": [],
   "source": [
    "june21 = pd.read_csv('202106-divvy-tripdata.csv')\n",
    "july21 = pd.read_csv('202107-divvy-tripdata.csv')\n",
    "aug21 = pd.read_csv('202108-divvy-tripdata.csv')\n",
    "sep21 = pd.read_csv('202109-divvy-tripdata.csv')\n",
    "oct21 = pd.read_csv('202110-divvy-tripdata.csv')\n",
    "nov21 = pd.read_csv('202111-divvy-tripdata.csv')\n",
    "dez21 = pd.read_csv('202112-divvy-tripdata.csv')\n",
    "jan22 = pd.read_csv('202201-divvy-tripdata.csv')\n",
    "feb22 = pd.read_csv('202202-divvy-tripdata.csv')\n",
    "mar22 = pd.read_csv('202203-divvy-tripdata.csv')\n",
    "apr22 = pd.read_csv('202204-divvy-tripdata.csv')\n",
    "may22 = pd.read_csv('202205-divvy-tripdata.csv')\n",
    "\n",
    "csv_list = [june21, july21, aug21, sep21, oct21, nov21, dez21, \n",
    "            jan22, feb22, mar22, apr22, may22]\n",
    "df = pd.concat(csv_list)"
   ]
  },
  {
   "cell_type": "markdown",
   "id": "c5c2aa49",
   "metadata": {},
   "source": [
    "### Deletando variaveis que não serão utilizadas para liberar memória RAM"
   ]
  },
  {
   "cell_type": "code",
   "execution_count": 3,
   "id": "e89d9436",
   "metadata": {},
   "outputs": [],
   "source": [
    "del june21, july21, aug21, sep21, oct21, nov21, dez21, jan22, feb22, mar22, apr22, may22"
   ]
  },
  {
   "cell_type": "markdown",
   "id": "ae0d07db",
   "metadata": {},
   "source": [
    "## Visão geral do Dataframe"
   ]
  },
  {
   "cell_type": "code",
   "execution_count": 4,
   "id": "774632ab",
   "metadata": {},
   "outputs": [
    {
     "data": {
      "text/html": [
       "<div>\n",
       "<style scoped>\n",
       "    .dataframe tbody tr th:only-of-type {\n",
       "        vertical-align: middle;\n",
       "    }\n",
       "\n",
       "    .dataframe tbody tr th {\n",
       "        vertical-align: top;\n",
       "    }\n",
       "\n",
       "    .dataframe thead th {\n",
       "        text-align: right;\n",
       "    }\n",
       "</style>\n",
       "<table border=\"1\" class=\"dataframe\">\n",
       "  <thead>\n",
       "    <tr style=\"text-align: right;\">\n",
       "      <th></th>\n",
       "      <th>ride_id</th>\n",
       "      <th>rideable_type</th>\n",
       "      <th>started_at</th>\n",
       "      <th>ended_at</th>\n",
       "      <th>start_station_name</th>\n",
       "      <th>start_station_id</th>\n",
       "      <th>end_station_name</th>\n",
       "      <th>end_station_id</th>\n",
       "      <th>start_lat</th>\n",
       "      <th>start_lng</th>\n",
       "      <th>end_lat</th>\n",
       "      <th>end_lng</th>\n",
       "      <th>member_casual</th>\n",
       "    </tr>\n",
       "  </thead>\n",
       "  <tbody>\n",
       "    <tr>\n",
       "      <th>0</th>\n",
       "      <td>99FEC93BA843FB20</td>\n",
       "      <td>electric_bike</td>\n",
       "      <td>2021-06-13 14:31:28</td>\n",
       "      <td>2021-06-13 14:34:11</td>\n",
       "      <td>NaN</td>\n",
       "      <td>NaN</td>\n",
       "      <td>NaN</td>\n",
       "      <td>NaN</td>\n",
       "      <td>41.80</td>\n",
       "      <td>-87.59</td>\n",
       "      <td>41.80</td>\n",
       "      <td>-87.60</td>\n",
       "      <td>member</td>\n",
       "    </tr>\n",
       "    <tr>\n",
       "      <th>1</th>\n",
       "      <td>06048DCFC8520CAF</td>\n",
       "      <td>electric_bike</td>\n",
       "      <td>2021-06-04 11:18:02</td>\n",
       "      <td>2021-06-04 11:24:19</td>\n",
       "      <td>NaN</td>\n",
       "      <td>NaN</td>\n",
       "      <td>NaN</td>\n",
       "      <td>NaN</td>\n",
       "      <td>41.79</td>\n",
       "      <td>-87.59</td>\n",
       "      <td>41.80</td>\n",
       "      <td>-87.60</td>\n",
       "      <td>member</td>\n",
       "    </tr>\n",
       "    <tr>\n",
       "      <th>2</th>\n",
       "      <td>9598066F68045DF2</td>\n",
       "      <td>electric_bike</td>\n",
       "      <td>2021-06-04 09:49:35</td>\n",
       "      <td>2021-06-04 09:55:34</td>\n",
       "      <td>NaN</td>\n",
       "      <td>NaN</td>\n",
       "      <td>NaN</td>\n",
       "      <td>NaN</td>\n",
       "      <td>41.80</td>\n",
       "      <td>-87.60</td>\n",
       "      <td>41.79</td>\n",
       "      <td>-87.59</td>\n",
       "      <td>member</td>\n",
       "    </tr>\n",
       "    <tr>\n",
       "      <th>3</th>\n",
       "      <td>B03C0FE48C412214</td>\n",
       "      <td>electric_bike</td>\n",
       "      <td>2021-06-03 19:56:05</td>\n",
       "      <td>2021-06-03 20:21:55</td>\n",
       "      <td>NaN</td>\n",
       "      <td>NaN</td>\n",
       "      <td>NaN</td>\n",
       "      <td>NaN</td>\n",
       "      <td>41.78</td>\n",
       "      <td>-87.58</td>\n",
       "      <td>41.80</td>\n",
       "      <td>-87.60</td>\n",
       "      <td>member</td>\n",
       "    </tr>\n",
       "    <tr>\n",
       "      <th>4</th>\n",
       "      <td>B9EEA89F8FEE73B7</td>\n",
       "      <td>electric_bike</td>\n",
       "      <td>2021-06-04 14:05:51</td>\n",
       "      <td>2021-06-04 14:09:59</td>\n",
       "      <td>NaN</td>\n",
       "      <td>NaN</td>\n",
       "      <td>NaN</td>\n",
       "      <td>NaN</td>\n",
       "      <td>41.80</td>\n",
       "      <td>-87.59</td>\n",
       "      <td>41.79</td>\n",
       "      <td>-87.59</td>\n",
       "      <td>member</td>\n",
       "    </tr>\n",
       "  </tbody>\n",
       "</table>\n",
       "</div>"
      ],
      "text/plain": [
       "            ride_id  rideable_type           started_at             ended_at  \\\n",
       "0  99FEC93BA843FB20  electric_bike  2021-06-13 14:31:28  2021-06-13 14:34:11   \n",
       "1  06048DCFC8520CAF  electric_bike  2021-06-04 11:18:02  2021-06-04 11:24:19   \n",
       "2  9598066F68045DF2  electric_bike  2021-06-04 09:49:35  2021-06-04 09:55:34   \n",
       "3  B03C0FE48C412214  electric_bike  2021-06-03 19:56:05  2021-06-03 20:21:55   \n",
       "4  B9EEA89F8FEE73B7  electric_bike  2021-06-04 14:05:51  2021-06-04 14:09:59   \n",
       "\n",
       "  start_station_name start_station_id end_station_name end_station_id  \\\n",
       "0                NaN              NaN              NaN            NaN   \n",
       "1                NaN              NaN              NaN            NaN   \n",
       "2                NaN              NaN              NaN            NaN   \n",
       "3                NaN              NaN              NaN            NaN   \n",
       "4                NaN              NaN              NaN            NaN   \n",
       "\n",
       "   start_lat  start_lng  end_lat  end_lng member_casual  \n",
       "0      41.80     -87.59    41.80   -87.60        member  \n",
       "1      41.79     -87.59    41.80   -87.60        member  \n",
       "2      41.80     -87.60    41.79   -87.59        member  \n",
       "3      41.78     -87.58    41.80   -87.60        member  \n",
       "4      41.80     -87.59    41.79   -87.59        member  "
      ]
     },
     "execution_count": 4,
     "metadata": {},
     "output_type": "execute_result"
    }
   ],
   "source": [
    "df.head()"
   ]
  },
  {
   "cell_type": "markdown",
   "id": "cb90f0cf",
   "metadata": {},
   "source": [
    "### Tipos de Colunas"
   ]
  },
  {
   "cell_type": "code",
   "execution_count": 5,
   "id": "9f6c283d",
   "metadata": {},
   "outputs": [
    {
     "data": {
      "text/plain": [
       "ride_id                object\n",
       "rideable_type          object\n",
       "started_at             object\n",
       "ended_at               object\n",
       "start_station_name     object\n",
       "start_station_id       object\n",
       "end_station_name       object\n",
       "end_station_id         object\n",
       "start_lat             float64\n",
       "start_lng             float64\n",
       "end_lat               float64\n",
       "end_lng               float64\n",
       "member_casual          object\n",
       "dtype: object"
      ]
     },
     "execution_count": 5,
     "metadata": {},
     "output_type": "execute_result"
    }
   ],
   "source": [
    "df.dtypes"
   ]
  },
  {
   "cell_type": "markdown",
   "id": "9db08829",
   "metadata": {},
   "source": [
    "### Tamanho do Dataframe"
   ]
  },
  {
   "cell_type": "code",
   "execution_count": 6,
   "id": "0591f52a",
   "metadata": {},
   "outputs": [
    {
     "data": {
      "text/plain": [
       "5860776"
      ]
     },
     "execution_count": 6,
     "metadata": {},
     "output_type": "execute_result"
    }
   ],
   "source": [
    "len(df)"
   ]
  },
  {
   "cell_type": "markdown",
   "id": "ef6732c8",
   "metadata": {},
   "source": [
    "### Removendo Colunas"
   ]
  },
  {
   "cell_type": "markdown",
   "id": "e3262043",
   "metadata": {},
   "source": [
    "Para essa análise, os ids das estações e seus nomes não serão utilizados, sendo assim removidos."
   ]
  },
  {
   "cell_type": "code",
   "execution_count": 7,
   "id": "251aed53",
   "metadata": {},
   "outputs": [],
   "source": [
    "df.drop(['start_station_name', 'start_station_id', 'end_station_name', 'end_station_id'], axis = 1, inplace = True)"
   ]
  },
  {
   "cell_type": "markdown",
   "id": "95f03da9",
   "metadata": {},
   "source": [
    "### Valores Faltantes"
   ]
  },
  {
   "cell_type": "code",
   "execution_count": 8,
   "id": "44a600b7",
   "metadata": {},
   "outputs": [
    {
     "data": {
      "text/plain": [
       "ride_id             0\n",
       "rideable_type       0\n",
       "started_at          0\n",
       "ended_at            0\n",
       "start_lat           0\n",
       "start_lng           0\n",
       "end_lat          5036\n",
       "end_lng          5036\n",
       "member_casual       0\n",
       "dtype: int64"
      ]
     },
     "execution_count": 8,
     "metadata": {},
     "output_type": "execute_result"
    }
   ],
   "source": [
    "df.isnull().sum()"
   ]
  },
  {
   "cell_type": "markdown",
   "id": "5db054f1",
   "metadata": {},
   "source": [
    "5036 valores encontrados, como fazem parte de uma pequena fatia (menor que 1%) do dataframe, eles serão removidos."
   ]
  },
  {
   "cell_type": "code",
   "execution_count": 9,
   "id": "cdbc35ad",
   "metadata": {},
   "outputs": [],
   "source": [
    "df = df.dropna(subset=['end_lat', 'end_lng'])"
   ]
  },
  {
   "cell_type": "code",
   "execution_count": 10,
   "id": "076322fb",
   "metadata": {},
   "outputs": [
    {
     "data": {
      "text/plain": [
       "5855740"
      ]
     },
     "execution_count": 10,
     "metadata": {},
     "output_type": "execute_result"
    }
   ],
   "source": [
    "len(df)"
   ]
  },
  {
   "cell_type": "markdown",
   "id": "016edae6",
   "metadata": {},
   "source": [
    "### Valores Duplicados"
   ]
  },
  {
   "cell_type": "code",
   "execution_count": 11,
   "id": "347dda70",
   "metadata": {},
   "outputs": [
    {
     "data": {
      "text/plain": [
       "False    5855740\n",
       "dtype: int64"
      ]
     },
     "execution_count": 11,
     "metadata": {},
     "output_type": "execute_result"
    }
   ],
   "source": [
    "df.duplicated().value_counts()"
   ]
  },
  {
   "cell_type": "markdown",
   "id": "0bbd0228",
   "metadata": {},
   "source": [
    "Nenhum valor duplicado foi encontrado."
   ]
  },
  {
   "cell_type": "markdown",
   "id": "8638654c",
   "metadata": {},
   "source": [
    "### Alterando os Tipos das Colunas"
   ]
  },
  {
   "cell_type": "code",
   "execution_count": 12,
   "id": "eec5308b",
   "metadata": {},
   "outputs": [],
   "source": [
    "df = df.astype({'started_at': 'datetime64[ns]', \n",
    "           'ended_at': 'datetime64[ns]'})"
   ]
  },
  {
   "cell_type": "code",
   "execution_count": 13,
   "id": "b4e6b9d6",
   "metadata": {},
   "outputs": [
    {
     "data": {
      "text/plain": [
       "ride_id                  object\n",
       "rideable_type            object\n",
       "started_at       datetime64[ns]\n",
       "ended_at         datetime64[ns]\n",
       "start_lat               float64\n",
       "start_lng               float64\n",
       "end_lat                 float64\n",
       "end_lng                 float64\n",
       "member_casual            object\n",
       "dtype: object"
      ]
     },
     "execution_count": 13,
     "metadata": {},
     "output_type": "execute_result"
    }
   ],
   "source": [
    "df.dtypes"
   ]
  },
  {
   "cell_type": "markdown",
   "id": "180392ce",
   "metadata": {},
   "source": [
    "### Criando a Coluna ride_length (duração da viagem)"
   ]
  },
  {
   "cell_type": "code",
   "execution_count": 14,
   "id": "35d701a4",
   "metadata": {},
   "outputs": [],
   "source": [
    "df['ride_length'] = df['ended_at'] - df['started_at']"
   ]
  },
  {
   "cell_type": "markdown",
   "id": "5b9501ab",
   "metadata": {},
   "source": [
    "### Formatando ride_length no formato de minutos"
   ]
  },
  {
   "cell_type": "code",
   "execution_count": 15,
   "id": "e375d4a4",
   "metadata": {},
   "outputs": [],
   "source": [
    "df = df.astype({'ride_length': 'timedelta64[m]'})"
   ]
  },
  {
   "cell_type": "markdown",
   "id": "d047b05a",
   "metadata": {},
   "source": [
    "### Criando a Coluna day_of_week"
   ]
  },
  {
   "cell_type": "code",
   "execution_count": 16,
   "id": "5c4c6d49",
   "metadata": {},
   "outputs": [],
   "source": [
    "#Esta coluna serve para sinalizar em que dia da semana ocorreu a viagem\n",
    "df['day_of_week'] = df['started_at'].dt.day_name()"
   ]
  },
  {
   "cell_type": "markdown",
   "id": "4a0e80c1",
   "metadata": {},
   "source": [
    "### Criando a Coluna hour_of_day"
   ]
  },
  {
   "cell_type": "code",
   "execution_count": 17,
   "id": "f329cf06",
   "metadata": {},
   "outputs": [],
   "source": [
    "df['hour_of_day'] = df['started_at'].dt.hour"
   ]
  },
  {
   "cell_type": "markdown",
   "id": "b6976e01",
   "metadata": {},
   "source": [
    "### Transformando latitude e longitude em kilometros e metros"
   ]
  },
  {
   "cell_type": "code",
   "execution_count": 18,
   "id": "f138c521",
   "metadata": {},
   "outputs": [],
   "source": [
    "def haversine(lat1, lon1, lat2, lon2, to_radians=True, earth_radius=6371):\n",
    "    \"\"\"\n",
    "    Versão levemente modificada de: http://stackoverflow.com/a/29546836/2901002\n",
    "\n",
    "    Calculate the great circle distance between two points\n",
    "    on the earth (specified in decimal degrees or in radians)\n",
    "\n",
    "    All (lat, lon) coordinates must have numeric dtypes and be of equal length.\n",
    "\n",
    "    \"\"\"\n",
    "    if to_radians:\n",
    "        lat1, lon1, lat2, lon2 = np.radians([lat1, lon1, lat2, lon2])\n",
    "\n",
    "    a = np.sin((lat2-lat1)/2.0)**2 + \\\n",
    "        np.cos(lat1) * np.cos(lat2) * np.sin((lon2-lon1)/2.0)**2\n",
    "\n",
    "    return earth_radius * 2 * np.arcsin(np.sqrt(a))\n",
    "\n",
    "df['distance_km'] = \\\n",
    "    haversine(df.start_lat.shift(), df.start_lng.shift(),\n",
    "                 df.end_lat, df.end_lng)\n",
    "\n",
    "df['distance_meters'] = \\\n",
    "    haversine(df.start_lat.shift(), df.start_lng.shift(),\n",
    "                 df.end_lat, df.end_lng) * 1000"
   ]
  },
  {
   "cell_type": "code",
   "execution_count": 19,
   "id": "5b1f66bd",
   "metadata": {},
   "outputs": [
    {
     "data": {
      "text/html": [
       "<div>\n",
       "<style scoped>\n",
       "    .dataframe tbody tr th:only-of-type {\n",
       "        vertical-align: middle;\n",
       "    }\n",
       "\n",
       "    .dataframe tbody tr th {\n",
       "        vertical-align: top;\n",
       "    }\n",
       "\n",
       "    .dataframe thead th {\n",
       "        text-align: right;\n",
       "    }\n",
       "</style>\n",
       "<table border=\"1\" class=\"dataframe\">\n",
       "  <thead>\n",
       "    <tr style=\"text-align: right;\">\n",
       "      <th></th>\n",
       "      <th>ride_id</th>\n",
       "      <th>rideable_type</th>\n",
       "      <th>started_at</th>\n",
       "      <th>ended_at</th>\n",
       "      <th>start_lat</th>\n",
       "      <th>start_lng</th>\n",
       "      <th>end_lat</th>\n",
       "      <th>end_lng</th>\n",
       "      <th>member_casual</th>\n",
       "      <th>ride_length</th>\n",
       "      <th>day_of_week</th>\n",
       "      <th>hour_of_day</th>\n",
       "      <th>distance_km</th>\n",
       "      <th>distance_meters</th>\n",
       "    </tr>\n",
       "  </thead>\n",
       "  <tbody>\n",
       "    <tr>\n",
       "      <th>0</th>\n",
       "      <td>99FEC93BA843FB20</td>\n",
       "      <td>electric_bike</td>\n",
       "      <td>2021-06-13 14:31:28</td>\n",
       "      <td>2021-06-13 14:34:11</td>\n",
       "      <td>41.80</td>\n",
       "      <td>-87.59</td>\n",
       "      <td>41.80</td>\n",
       "      <td>-87.60</td>\n",
       "      <td>member</td>\n",
       "      <td>2.0</td>\n",
       "      <td>Sunday</td>\n",
       "      <td>14</td>\n",
       "      <td>NaN</td>\n",
       "      <td>NaN</td>\n",
       "    </tr>\n",
       "    <tr>\n",
       "      <th>1</th>\n",
       "      <td>06048DCFC8520CAF</td>\n",
       "      <td>electric_bike</td>\n",
       "      <td>2021-06-04 11:18:02</td>\n",
       "      <td>2021-06-04 11:24:19</td>\n",
       "      <td>41.79</td>\n",
       "      <td>-87.59</td>\n",
       "      <td>41.80</td>\n",
       "      <td>-87.60</td>\n",
       "      <td>member</td>\n",
       "      <td>6.0</td>\n",
       "      <td>Friday</td>\n",
       "      <td>11</td>\n",
       "      <td>0.828931</td>\n",
       "      <td>828.931491</td>\n",
       "    </tr>\n",
       "    <tr>\n",
       "      <th>2</th>\n",
       "      <td>9598066F68045DF2</td>\n",
       "      <td>electric_bike</td>\n",
       "      <td>2021-06-04 09:49:35</td>\n",
       "      <td>2021-06-04 09:55:34</td>\n",
       "      <td>41.80</td>\n",
       "      <td>-87.60</td>\n",
       "      <td>41.79</td>\n",
       "      <td>-87.59</td>\n",
       "      <td>member</td>\n",
       "      <td>5.0</td>\n",
       "      <td>Friday</td>\n",
       "      <td>9</td>\n",
       "      <td>0.000000</td>\n",
       "      <td>0.000000</td>\n",
       "    </tr>\n",
       "    <tr>\n",
       "      <th>3</th>\n",
       "      <td>B03C0FE48C412214</td>\n",
       "      <td>electric_bike</td>\n",
       "      <td>2021-06-03 19:56:05</td>\n",
       "      <td>2021-06-03 20:21:55</td>\n",
       "      <td>41.78</td>\n",
       "      <td>-87.58</td>\n",
       "      <td>41.80</td>\n",
       "      <td>-87.60</td>\n",
       "      <td>member</td>\n",
       "      <td>25.0</td>\n",
       "      <td>Thursday</td>\n",
       "      <td>19</td>\n",
       "      <td>0.000000</td>\n",
       "      <td>0.000000</td>\n",
       "    </tr>\n",
       "    <tr>\n",
       "      <th>4</th>\n",
       "      <td>B9EEA89F8FEE73B7</td>\n",
       "      <td>electric_bike</td>\n",
       "      <td>2021-06-04 14:05:51</td>\n",
       "      <td>2021-06-04 14:09:59</td>\n",
       "      <td>41.80</td>\n",
       "      <td>-87.59</td>\n",
       "      <td>41.79</td>\n",
       "      <td>-87.59</td>\n",
       "      <td>member</td>\n",
       "      <td>4.0</td>\n",
       "      <td>Friday</td>\n",
       "      <td>14</td>\n",
       "      <td>1.387040</td>\n",
       "      <td>1387.040104</td>\n",
       "    </tr>\n",
       "  </tbody>\n",
       "</table>\n",
       "</div>"
      ],
      "text/plain": [
       "            ride_id  rideable_type          started_at            ended_at  \\\n",
       "0  99FEC93BA843FB20  electric_bike 2021-06-13 14:31:28 2021-06-13 14:34:11   \n",
       "1  06048DCFC8520CAF  electric_bike 2021-06-04 11:18:02 2021-06-04 11:24:19   \n",
       "2  9598066F68045DF2  electric_bike 2021-06-04 09:49:35 2021-06-04 09:55:34   \n",
       "3  B03C0FE48C412214  electric_bike 2021-06-03 19:56:05 2021-06-03 20:21:55   \n",
       "4  B9EEA89F8FEE73B7  electric_bike 2021-06-04 14:05:51 2021-06-04 14:09:59   \n",
       "\n",
       "   start_lat  start_lng  end_lat  end_lng member_casual  ride_length  \\\n",
       "0      41.80     -87.59    41.80   -87.60        member          2.0   \n",
       "1      41.79     -87.59    41.80   -87.60        member          6.0   \n",
       "2      41.80     -87.60    41.79   -87.59        member          5.0   \n",
       "3      41.78     -87.58    41.80   -87.60        member         25.0   \n",
       "4      41.80     -87.59    41.79   -87.59        member          4.0   \n",
       "\n",
       "  day_of_week  hour_of_day  distance_km  distance_meters  \n",
       "0      Sunday           14          NaN              NaN  \n",
       "1      Friday           11     0.828931       828.931491  \n",
       "2      Friday            9     0.000000         0.000000  \n",
       "3    Thursday           19     0.000000         0.000000  \n",
       "4      Friday           14     1.387040      1387.040104  "
      ]
     },
     "execution_count": 19,
     "metadata": {},
     "output_type": "execute_result"
    }
   ],
   "source": [
    "df.head()"
   ]
  },
  {
   "cell_type": "code",
   "execution_count": 20,
   "id": "198adaef",
   "metadata": {},
   "outputs": [
    {
     "data": {
      "text/plain": [
       "ride_id            0\n",
       "rideable_type      0\n",
       "started_at         0\n",
       "ended_at           0\n",
       "start_lat          0\n",
       "start_lng          0\n",
       "end_lat            0\n",
       "end_lng            0\n",
       "member_casual      0\n",
       "ride_length        0\n",
       "day_of_week        0\n",
       "hour_of_day        0\n",
       "distance_km        1\n",
       "distance_meters    1\n",
       "dtype: int64"
      ]
     },
     "execution_count": 20,
     "metadata": {},
     "output_type": "execute_result"
    }
   ],
   "source": [
    "df.isnull().sum()"
   ]
  },
  {
   "cell_type": "code",
   "execution_count": 21,
   "id": "7461b4ba",
   "metadata": {},
   "outputs": [
    {
     "name": "stdout",
     "output_type": "stream",
     "text": [
      "Count of zeros in column  ride_id  is :  0\n",
      "Count of zeros in column  rideable_type  is :  0\n",
      "Count of zeros in column  started_at  is :  0\n",
      "Count of zeros in column  ended_at  is :  0\n",
      "Count of zeros in column  start_lat  is :  0\n",
      "Count of zeros in column  start_lng  is :  0\n",
      "Count of zeros in column  end_lat  is :  0\n",
      "Count of zeros in column  end_lng  is :  0\n",
      "Count of zeros in column  member_casual  is :  0\n",
      "Count of zeros in column  ride_length  is :  95741\n",
      "Count of zeros in column  day_of_week  is :  0\n",
      "Count of zeros in column  hour_of_day  is :  88991\n",
      "Count of zeros in column  distance_km  is :  184210\n",
      "Count of zeros in column  distance_meters  is :  184210\n"
     ]
    }
   ],
   "source": [
    "for column_name in df.columns:\n",
    "    column = df[column_name]\n",
    "    # Get the count of Zeros in column \n",
    "    count = (column == 0).sum()\n",
    "    print('Count of zeros in column ', column_name, ' is : ', count)"
   ]
  },
  {
   "cell_type": "markdown",
   "id": "64428036",
   "metadata": {},
   "source": [
    "Ao criar essas novas colunas, nota-se que alguns de seus registros estão com valor 0 ou NaN, que podem ser tratados de duas maneiras: Removendo-os ou utilizando medianas para preencher os valores faltantes. Como os dados fazem parte de uma pequena parcela do todo (184210 / 5860776 = 0.0314309914 ou 3,14%), os removerei do dataset."
   ]
  },
  {
   "cell_type": "code",
   "execution_count": 22,
   "id": "16f6248e",
   "metadata": {},
   "outputs": [],
   "source": [
    "df.dropna(inplace=True)"
   ]
  },
  {
   "cell_type": "code",
   "execution_count": 23,
   "id": "f9a7e466",
   "metadata": {},
   "outputs": [],
   "source": [
    "df = df.loc[df['ride_length'] * df['distance_km'] != 0]"
   ]
  },
  {
   "cell_type": "code",
   "execution_count": 24,
   "id": "4fdfd968",
   "metadata": {},
   "outputs": [
    {
     "name": "stdout",
     "output_type": "stream",
     "text": [
      "Count of zeros in column  ride_id  is :  0\n",
      "Count of zeros in column  rideable_type  is :  0\n",
      "Count of zeros in column  started_at  is :  0\n",
      "Count of zeros in column  ended_at  is :  0\n",
      "Count of zeros in column  start_lat  is :  0\n",
      "Count of zeros in column  start_lng  is :  0\n",
      "Count of zeros in column  end_lat  is :  0\n",
      "Count of zeros in column  end_lng  is :  0\n",
      "Count of zeros in column  member_casual  is :  0\n",
      "Count of zeros in column  ride_length  is :  0\n",
      "Count of zeros in column  day_of_week  is :  0\n",
      "Count of zeros in column  hour_of_day  is :  84437\n",
      "Count of zeros in column  distance_km  is :  0\n",
      "Count of zeros in column  distance_meters  is :  0\n"
     ]
    }
   ],
   "source": [
    "for column_name in df.columns:\n",
    "    column = df[column_name]\n",
    "    # Get the count of Zeros in column \n",
    "    count = (column == 0).sum()\n",
    "    print('Count of zeros in column ', column_name, ' is : ', count)"
   ]
  },
  {
   "cell_type": "markdown",
   "id": "ec2cae31",
   "metadata": {},
   "source": [
    "A coluna \"hour_of_day\" não sofrerá mudanças devido aos horários estarem em formato de 24 horas"
   ]
  },
  {
   "cell_type": "code",
   "execution_count": 25,
   "id": "7b17f342",
   "metadata": {},
   "outputs": [
    {
     "data": {
      "text/html": [
       "<div>\n",
       "<style scoped>\n",
       "    .dataframe tbody tr th:only-of-type {\n",
       "        vertical-align: middle;\n",
       "    }\n",
       "\n",
       "    .dataframe tbody tr th {\n",
       "        vertical-align: top;\n",
       "    }\n",
       "\n",
       "    .dataframe thead th {\n",
       "        text-align: right;\n",
       "    }\n",
       "</style>\n",
       "<table border=\"1\" class=\"dataframe\">\n",
       "  <thead>\n",
       "    <tr style=\"text-align: right;\">\n",
       "      <th></th>\n",
       "      <th>ride_id</th>\n",
       "      <th>rideable_type</th>\n",
       "      <th>started_at</th>\n",
       "      <th>ended_at</th>\n",
       "      <th>start_lat</th>\n",
       "      <th>start_lng</th>\n",
       "      <th>end_lat</th>\n",
       "      <th>end_lng</th>\n",
       "      <th>member_casual</th>\n",
       "      <th>ride_length</th>\n",
       "      <th>day_of_week</th>\n",
       "      <th>hour_of_day</th>\n",
       "      <th>distance_km</th>\n",
       "      <th>distance_meters</th>\n",
       "    </tr>\n",
       "  </thead>\n",
       "  <tbody>\n",
       "    <tr>\n",
       "      <th>1</th>\n",
       "      <td>06048DCFC8520CAF</td>\n",
       "      <td>electric_bike</td>\n",
       "      <td>2021-06-04 11:18:02</td>\n",
       "      <td>2021-06-04 11:24:19</td>\n",
       "      <td>41.79</td>\n",
       "      <td>-87.59</td>\n",
       "      <td>41.80</td>\n",
       "      <td>-87.60</td>\n",
       "      <td>member</td>\n",
       "      <td>6.0</td>\n",
       "      <td>Friday</td>\n",
       "      <td>11</td>\n",
       "      <td>0.828931</td>\n",
       "      <td>828.931491</td>\n",
       "    </tr>\n",
       "    <tr>\n",
       "      <th>4</th>\n",
       "      <td>B9EEA89F8FEE73B7</td>\n",
       "      <td>electric_bike</td>\n",
       "      <td>2021-06-04 14:05:51</td>\n",
       "      <td>2021-06-04 14:09:59</td>\n",
       "      <td>41.80</td>\n",
       "      <td>-87.59</td>\n",
       "      <td>41.79</td>\n",
       "      <td>-87.59</td>\n",
       "      <td>member</td>\n",
       "      <td>4.0</td>\n",
       "      <td>Friday</td>\n",
       "      <td>14</td>\n",
       "      <td>1.387040</td>\n",
       "      <td>1387.040104</td>\n",
       "    </tr>\n",
       "    <tr>\n",
       "      <th>5</th>\n",
       "      <td>62B943CEAAA420BA</td>\n",
       "      <td>electric_bike</td>\n",
       "      <td>2021-06-03 19:32:01</td>\n",
       "      <td>2021-06-03 19:38:46</td>\n",
       "      <td>41.78</td>\n",
       "      <td>-87.58</td>\n",
       "      <td>41.78</td>\n",
       "      <td>-87.58</td>\n",
       "      <td>member</td>\n",
       "      <td>6.0</td>\n",
       "      <td>Thursday</td>\n",
       "      <td>19</td>\n",
       "      <td>2.373408</td>\n",
       "      <td>2373.408209</td>\n",
       "    </tr>\n",
       "    <tr>\n",
       "      <th>6</th>\n",
       "      <td>7E2546FBA79C46EE</td>\n",
       "      <td>electric_bike</td>\n",
       "      <td>2021-06-10 16:30:10</td>\n",
       "      <td>2021-06-10 16:36:21</td>\n",
       "      <td>41.79</td>\n",
       "      <td>-87.60</td>\n",
       "      <td>41.79</td>\n",
       "      <td>-87.59</td>\n",
       "      <td>member</td>\n",
       "      <td>6.0</td>\n",
       "      <td>Thursday</td>\n",
       "      <td>16</td>\n",
       "      <td>1.387040</td>\n",
       "      <td>1387.040104</td>\n",
       "    </tr>\n",
       "    <tr>\n",
       "      <th>7</th>\n",
       "      <td>3DDF3BBF6C4C3C89</td>\n",
       "      <td>electric_bike</td>\n",
       "      <td>2021-06-10 17:00:30</td>\n",
       "      <td>2021-06-10 17:06:48</td>\n",
       "      <td>41.79</td>\n",
       "      <td>-87.59</td>\n",
       "      <td>41.80</td>\n",
       "      <td>-87.59</td>\n",
       "      <td>member</td>\n",
       "      <td>6.0</td>\n",
       "      <td>Thursday</td>\n",
       "      <td>17</td>\n",
       "      <td>1.386963</td>\n",
       "      <td>1386.962799</td>\n",
       "    </tr>\n",
       "  </tbody>\n",
       "</table>\n",
       "</div>"
      ],
      "text/plain": [
       "            ride_id  rideable_type          started_at            ended_at  \\\n",
       "1  06048DCFC8520CAF  electric_bike 2021-06-04 11:18:02 2021-06-04 11:24:19   \n",
       "4  B9EEA89F8FEE73B7  electric_bike 2021-06-04 14:05:51 2021-06-04 14:09:59   \n",
       "5  62B943CEAAA420BA  electric_bike 2021-06-03 19:32:01 2021-06-03 19:38:46   \n",
       "6  7E2546FBA79C46EE  electric_bike 2021-06-10 16:30:10 2021-06-10 16:36:21   \n",
       "7  3DDF3BBF6C4C3C89  electric_bike 2021-06-10 17:00:30 2021-06-10 17:06:48   \n",
       "\n",
       "   start_lat  start_lng  end_lat  end_lng member_casual  ride_length  \\\n",
       "1      41.79     -87.59    41.80   -87.60        member          6.0   \n",
       "4      41.80     -87.59    41.79   -87.59        member          4.0   \n",
       "5      41.78     -87.58    41.78   -87.58        member          6.0   \n",
       "6      41.79     -87.60    41.79   -87.59        member          6.0   \n",
       "7      41.79     -87.59    41.80   -87.59        member          6.0   \n",
       "\n",
       "  day_of_week  hour_of_day  distance_km  distance_meters  \n",
       "1      Friday           11     0.828931       828.931491  \n",
       "4      Friday           14     1.387040      1387.040104  \n",
       "5    Thursday           19     2.373408      2373.408209  \n",
       "6    Thursday           16     1.387040      1387.040104  \n",
       "7    Thursday           17     1.386963      1386.962799  "
      ]
     },
     "execution_count": 25,
     "metadata": {},
     "output_type": "execute_result"
    }
   ],
   "source": [
    "df.head()"
   ]
  },
  {
   "cell_type": "markdown",
   "id": "8592a17a",
   "metadata": {},
   "source": [
    "# Fases de Análise e Compartilhamento\n",
    "---"
   ]
  },
  {
   "cell_type": "markdown",
   "id": "70ac964a",
   "metadata": {},
   "source": [
    "Daqui em diante estaremos utilizando um novo dataframe com 1000000 amostras distribuidas entre membros casuais e anuais para termos uma melhor base de comparação."
   ]
  },
  {
   "cell_type": "code",
   "execution_count": 26,
   "id": "7216fe03",
   "metadata": {},
   "outputs": [],
   "source": [
    "sample_df = df.groupby(\"member_casual\").sample(n=500000, random_state=1).reset_index()"
   ]
  },
  {
   "cell_type": "code",
   "execution_count": 49,
   "id": "364177ba",
   "metadata": {},
   "outputs": [],
   "source": [
    "#Salvando a amostra caso seja necessário reutilizá-la no futuro\n",
    "import pyarrow as pa\n",
    "import pyarrow.csv as csv\n",
    "df_pa_table = pa.Table.from_pandas(sample_df)\n",
    "csv.write_csv(df_pa_table, 'sample_cyclistic.csv')"
   ]
  },
  {
   "cell_type": "code",
   "execution_count": 26,
   "id": "53a5888d",
   "metadata": {},
   "outputs": [
    {
     "data": {
      "text/plain": [
       "casual    500000\n",
       "member    500000\n",
       "Name: member_casual, dtype: int64"
      ]
     },
     "execution_count": 26,
     "metadata": {},
     "output_type": "execute_result"
    }
   ],
   "source": [
    "sample_df['member_casual'].value_counts()"
   ]
  },
  {
   "cell_type": "code",
   "execution_count": 27,
   "id": "d0ff961e",
   "metadata": {
    "scrolled": true
   },
   "outputs": [
    {
     "data": {
      "text/html": [
       "<div>\n",
       "<style scoped>\n",
       "    .dataframe tbody tr th:only-of-type {\n",
       "        vertical-align: middle;\n",
       "    }\n",
       "\n",
       "    .dataframe tbody tr th {\n",
       "        vertical-align: top;\n",
       "    }\n",
       "\n",
       "    .dataframe thead th {\n",
       "        text-align: right;\n",
       "    }\n",
       "</style>\n",
       "<table border=\"1\" class=\"dataframe\">\n",
       "  <thead>\n",
       "    <tr style=\"text-align: right;\">\n",
       "      <th></th>\n",
       "      <th>index</th>\n",
       "      <th>start_lat</th>\n",
       "      <th>start_lng</th>\n",
       "      <th>end_lat</th>\n",
       "      <th>end_lng</th>\n",
       "      <th>ride_length</th>\n",
       "      <th>hour_of_day</th>\n",
       "      <th>distance_km</th>\n",
       "      <th>distance_meters</th>\n",
       "    </tr>\n",
       "  </thead>\n",
       "  <tbody>\n",
       "    <tr>\n",
       "      <th>count</th>\n",
       "      <td>1000000.000000</td>\n",
       "      <td>1000000.000000</td>\n",
       "      <td>1000000.000000</td>\n",
       "      <td>1000000.000000</td>\n",
       "      <td>1000000.000000</td>\n",
       "      <td>1000000.000000</td>\n",
       "      <td>1000000.000000</td>\n",
       "      <td>1000000.000000</td>\n",
       "      <td>1000000.000000</td>\n",
       "    </tr>\n",
       "    <tr>\n",
       "      <th>mean</th>\n",
       "      <td>313800.896433</td>\n",
       "      <td>41.901185</td>\n",
       "      <td>-87.646732</td>\n",
       "      <td>41.901450</td>\n",
       "      <td>-87.646904</td>\n",
       "      <td>20.063639</td>\n",
       "      <td>14.236985</td>\n",
       "      <td>4.796962</td>\n",
       "      <td>4796.961569</td>\n",
       "    </tr>\n",
       "    <tr>\n",
       "      <th>std</th>\n",
       "      <td>216319.537558</td>\n",
       "      <td>0.046018</td>\n",
       "      <td>0.029188</td>\n",
       "      <td>0.046131</td>\n",
       "      <td>0.029400</td>\n",
       "      <td>151.665075</td>\n",
       "      <td>5.087770</td>\n",
       "      <td>4.661250</td>\n",
       "      <td>4661.250040</td>\n",
       "    </tr>\n",
       "    <tr>\n",
       "      <th>min</th>\n",
       "      <td>0.000000</td>\n",
       "      <td>41.648501</td>\n",
       "      <td>-87.840000</td>\n",
       "      <td>41.510000</td>\n",
       "      <td>-87.910000</td>\n",
       "      <td>-53.000000</td>\n",
       "      <td>0.000000</td>\n",
       "      <td>0.000004</td>\n",
       "      <td>0.004345</td>\n",
       "    </tr>\n",
       "    <tr>\n",
       "      <th>25%</th>\n",
       "      <td>127021.750000</td>\n",
       "      <td>41.881690</td>\n",
       "      <td>-87.660984</td>\n",
       "      <td>41.881892</td>\n",
       "      <td>-87.661206</td>\n",
       "      <td>6.000000</td>\n",
       "      <td>11.000000</td>\n",
       "      <td>1.511905</td>\n",
       "      <td>1511.904695</td>\n",
       "    </tr>\n",
       "    <tr>\n",
       "      <th>50%</th>\n",
       "      <td>276179.000000</td>\n",
       "      <td>41.899015</td>\n",
       "      <td>-87.642985</td>\n",
       "      <td>41.899930</td>\n",
       "      <td>-87.643118</td>\n",
       "      <td>11.000000</td>\n",
       "      <td>15.000000</td>\n",
       "      <td>3.278844</td>\n",
       "      <td>3278.843842</td>\n",
       "    </tr>\n",
       "    <tr>\n",
       "      <th>75%</th>\n",
       "      <td>486476.250000</td>\n",
       "      <td>41.929143</td>\n",
       "      <td>-87.627882</td>\n",
       "      <td>41.929479</td>\n",
       "      <td>-87.627870</td>\n",
       "      <td>21.000000</td>\n",
       "      <td>18.000000</td>\n",
       "      <td>6.444069</td>\n",
       "      <td>6444.069065</td>\n",
       "    </tr>\n",
       "    <tr>\n",
       "      <th>max</th>\n",
       "      <td>822401.000000</td>\n",
       "      <td>42.070000</td>\n",
       "      <td>-87.520000</td>\n",
       "      <td>42.150000</td>\n",
       "      <td>-87.490000</td>\n",
       "      <td>55944.000000</td>\n",
       "      <td>23.000000</td>\n",
       "      <td>52.122312</td>\n",
       "      <td>52122.312053</td>\n",
       "    </tr>\n",
       "    <tr>\n",
       "      <th>median</th>\n",
       "      <td>276179.000000</td>\n",
       "      <td>41.899015</td>\n",
       "      <td>-87.642985</td>\n",
       "      <td>41.899930</td>\n",
       "      <td>-87.643118</td>\n",
       "      <td>11.000000</td>\n",
       "      <td>15.000000</td>\n",
       "      <td>3.278844</td>\n",
       "      <td>3278.843842</td>\n",
       "    </tr>\n",
       "    <tr>\n",
       "      <th>skew</th>\n",
       "      <td>0.429678</td>\n",
       "      <td>-0.612799</td>\n",
       "      <td>-0.935818</td>\n",
       "      <td>-0.616495</td>\n",
       "      <td>-0.939269</td>\n",
       "      <td>164.358043</td>\n",
       "      <td>-0.612940</td>\n",
       "      <td>1.979692</td>\n",
       "      <td>1.979692</td>\n",
       "    </tr>\n",
       "    <tr>\n",
       "      <th>mad</th>\n",
       "      <td>184652.609505</td>\n",
       "      <td>0.032754</td>\n",
       "      <td>0.021744</td>\n",
       "      <td>0.032895</td>\n",
       "      <td>0.021913</td>\n",
       "      <td>15.991000</td>\n",
       "      <td>4.121933</td>\n",
       "      <td>3.412428</td>\n",
       "      <td>3412.427713</td>\n",
       "    </tr>\n",
       "    <tr>\n",
       "      <th>kurt</th>\n",
       "      <td>-0.924355</td>\n",
       "      <td>2.641594</td>\n",
       "      <td>2.649811</td>\n",
       "      <td>2.622451</td>\n",
       "      <td>2.645373</td>\n",
       "      <td>37508.338459</td>\n",
       "      <td>0.040301</td>\n",
       "      <td>5.044034</td>\n",
       "      <td>5.044034</td>\n",
       "    </tr>\n",
       "  </tbody>\n",
       "</table>\n",
       "</div>"
      ],
      "text/plain": [
       "                 index       start_lat       start_lng         end_lat  \\\n",
       "count   1000000.000000  1000000.000000  1000000.000000  1000000.000000   \n",
       "mean     313800.896433       41.901185      -87.646732       41.901450   \n",
       "std      216319.537558        0.046018        0.029188        0.046131   \n",
       "min           0.000000       41.648501      -87.840000       41.510000   \n",
       "25%      127021.750000       41.881690      -87.660984       41.881892   \n",
       "50%      276179.000000       41.899015      -87.642985       41.899930   \n",
       "75%      486476.250000       41.929143      -87.627882       41.929479   \n",
       "max      822401.000000       42.070000      -87.520000       42.150000   \n",
       "median   276179.000000       41.899015      -87.642985       41.899930   \n",
       "skew          0.429678       -0.612799       -0.935818       -0.616495   \n",
       "mad      184652.609505        0.032754        0.021744        0.032895   \n",
       "kurt         -0.924355        2.641594        2.649811        2.622451   \n",
       "\n",
       "               end_lng     ride_length     hour_of_day     distance_km  \\\n",
       "count   1000000.000000  1000000.000000  1000000.000000  1000000.000000   \n",
       "mean        -87.646904       20.063639       14.236985        4.796962   \n",
       "std           0.029400      151.665075        5.087770        4.661250   \n",
       "min         -87.910000      -53.000000        0.000000        0.000004   \n",
       "25%         -87.661206        6.000000       11.000000        1.511905   \n",
       "50%         -87.643118       11.000000       15.000000        3.278844   \n",
       "75%         -87.627870       21.000000       18.000000        6.444069   \n",
       "max         -87.490000    55944.000000       23.000000       52.122312   \n",
       "median      -87.643118       11.000000       15.000000        3.278844   \n",
       "skew         -0.939269      164.358043       -0.612940        1.979692   \n",
       "mad           0.021913       15.991000        4.121933        3.412428   \n",
       "kurt          2.645373    37508.338459        0.040301        5.044034   \n",
       "\n",
       "        distance_meters  \n",
       "count    1000000.000000  \n",
       "mean        4796.961569  \n",
       "std         4661.250040  \n",
       "min            0.004345  \n",
       "25%         1511.904695  \n",
       "50%         3278.843842  \n",
       "75%         6444.069065  \n",
       "max        52122.312053  \n",
       "median      3278.843842  \n",
       "skew           1.979692  \n",
       "mad         3412.427713  \n",
       "kurt           5.044034  "
      ]
     },
     "execution_count": 27,
     "metadata": {},
     "output_type": "execute_result"
    }
   ],
   "source": [
    "#Alterando o describe para mostrar outras estatisticas relevantes\n",
    "def describe(df, stats):\n",
    "    d = df.describe()\n",
    "    return pd.concat([d,(df.reindex(d.columns, axis = 1).agg(stats))])\n",
    "\n",
    "describe(sample_df, ['median', 'skew', 'mad', 'kurt'])"
   ]
  },
  {
   "cell_type": "code",
   "execution_count": 105,
   "id": "204e3bd6",
   "metadata": {},
   "outputs": [
    {
     "data": {
      "text/html": [
       "<div>\n",
       "<style scoped>\n",
       "    .dataframe tbody tr th:only-of-type {\n",
       "        vertical-align: middle;\n",
       "    }\n",
       "\n",
       "    .dataframe tbody tr th {\n",
       "        vertical-align: top;\n",
       "    }\n",
       "\n",
       "    .dataframe thead th {\n",
       "        text-align: right;\n",
       "    }\n",
       "</style>\n",
       "<table border=\"1\" class=\"dataframe\">\n",
       "  <thead>\n",
       "    <tr style=\"text-align: right;\">\n",
       "      <th></th>\n",
       "      <th></th>\n",
       "      <th>distance_meters</th>\n",
       "      <th>ride_length</th>\n",
       "    </tr>\n",
       "    <tr>\n",
       "      <th>member_casual</th>\n",
       "      <th>day_of_week</th>\n",
       "      <th></th>\n",
       "      <th></th>\n",
       "    </tr>\n",
       "  </thead>\n",
       "  <tbody>\n",
       "    <tr>\n",
       "      <th rowspan=\"7\" valign=\"top\">casual</th>\n",
       "      <th>Wednesday</th>\n",
       "      <td>3526.615727</td>\n",
       "      <td>13.0</td>\n",
       "    </tr>\n",
       "    <tr>\n",
       "      <th>Monday</th>\n",
       "      <td>3518.161475</td>\n",
       "      <td>15.0</td>\n",
       "    </tr>\n",
       "    <tr>\n",
       "      <th>Thursday</th>\n",
       "      <td>3489.594432</td>\n",
       "      <td>13.0</td>\n",
       "    </tr>\n",
       "    <tr>\n",
       "      <th>Sunday</th>\n",
       "      <td>3487.364677</td>\n",
       "      <td>17.0</td>\n",
       "    </tr>\n",
       "    <tr>\n",
       "      <th>Tuesday</th>\n",
       "      <td>3473.103304</td>\n",
       "      <td>13.0</td>\n",
       "    </tr>\n",
       "    <tr>\n",
       "      <th>Friday</th>\n",
       "      <td>3431.562382</td>\n",
       "      <td>14.0</td>\n",
       "    </tr>\n",
       "    <tr>\n",
       "      <th>Saturday</th>\n",
       "      <td>3399.245067</td>\n",
       "      <td>17.0</td>\n",
       "    </tr>\n",
       "    <tr>\n",
       "      <th rowspan=\"7\" valign=\"top\">member</th>\n",
       "      <th>Saturday</th>\n",
       "      <td>3334.491219</td>\n",
       "      <td>10.0</td>\n",
       "    </tr>\n",
       "    <tr>\n",
       "      <th>Sunday</th>\n",
       "      <td>3332.962014</td>\n",
       "      <td>10.0</td>\n",
       "    </tr>\n",
       "    <tr>\n",
       "      <th>Friday</th>\n",
       "      <td>3034.422882</td>\n",
       "      <td>9.0</td>\n",
       "    </tr>\n",
       "    <tr>\n",
       "      <th>Monday</th>\n",
       "      <td>2989.372600</td>\n",
       "      <td>8.0</td>\n",
       "    </tr>\n",
       "    <tr>\n",
       "      <th>Thursday</th>\n",
       "      <td>2969.516500</td>\n",
       "      <td>8.0</td>\n",
       "    </tr>\n",
       "    <tr>\n",
       "      <th>Wednesday</th>\n",
       "      <td>2934.711124</td>\n",
       "      <td>8.0</td>\n",
       "    </tr>\n",
       "    <tr>\n",
       "      <th>Tuesday</th>\n",
       "      <td>2925.134961</td>\n",
       "      <td>8.0</td>\n",
       "    </tr>\n",
       "  </tbody>\n",
       "</table>\n",
       "</div>"
      ],
      "text/plain": [
       "                           distance_meters  ride_length\n",
       "member_casual day_of_week                              \n",
       "casual        Wednesday        3526.615727         13.0\n",
       "              Monday           3518.161475         15.0\n",
       "              Thursday         3489.594432         13.0\n",
       "              Sunday           3487.364677         17.0\n",
       "              Tuesday          3473.103304         13.0\n",
       "              Friday           3431.562382         14.0\n",
       "              Saturday         3399.245067         17.0\n",
       "member        Saturday         3334.491219         10.0\n",
       "              Sunday           3332.962014         10.0\n",
       "              Friday           3034.422882          9.0\n",
       "              Monday           2989.372600          8.0\n",
       "              Thursday         2969.516500          8.0\n",
       "              Wednesday        2934.711124          8.0\n",
       "              Tuesday          2925.134961          8.0"
      ]
     },
     "execution_count": 105,
     "metadata": {},
     "output_type": "execute_result"
    }
   ],
   "source": [
    "sample_df.groupby(['member_casual', 'day_of_week'])[['distance_meters', 'ride_length']].median().sort_values(by = 'distance_meters', ascending = False)"
   ]
  },
  {
   "cell_type": "code",
   "execution_count": 29,
   "id": "874fc0c6",
   "metadata": {},
   "outputs": [
    {
     "data": {
      "text/html": [
       "<div>\n",
       "<style scoped>\n",
       "    .dataframe tbody tr th:only-of-type {\n",
       "        vertical-align: middle;\n",
       "    }\n",
       "\n",
       "    .dataframe tbody tr th {\n",
       "        vertical-align: top;\n",
       "    }\n",
       "\n",
       "    .dataframe thead th {\n",
       "        text-align: right;\n",
       "    }\n",
       "</style>\n",
       "<table border=\"1\" class=\"dataframe\">\n",
       "  <thead>\n",
       "    <tr style=\"text-align: right;\">\n",
       "      <th></th>\n",
       "      <th>member_casual</th>\n",
       "      <th>day_of_week</th>\n",
       "      <th>count</th>\n",
       "    </tr>\n",
       "  </thead>\n",
       "  <tbody>\n",
       "    <tr>\n",
       "      <th>2</th>\n",
       "      <td>casual</td>\n",
       "      <td>Saturday</td>\n",
       "      <td>106647</td>\n",
       "    </tr>\n",
       "    <tr>\n",
       "      <th>3</th>\n",
       "      <td>casual</td>\n",
       "      <td>Sunday</td>\n",
       "      <td>91969</td>\n",
       "    </tr>\n",
       "    <tr>\n",
       "      <th>12</th>\n",
       "      <td>member</td>\n",
       "      <td>Tuesday</td>\n",
       "      <td>79177</td>\n",
       "    </tr>\n",
       "    <tr>\n",
       "      <th>13</th>\n",
       "      <td>member</td>\n",
       "      <td>Wednesday</td>\n",
       "      <td>77757</td>\n",
       "    </tr>\n",
       "    <tr>\n",
       "      <th>11</th>\n",
       "      <td>member</td>\n",
       "      <td>Thursday</td>\n",
       "      <td>75914</td>\n",
       "    </tr>\n",
       "    <tr>\n",
       "      <th>0</th>\n",
       "      <td>casual</td>\n",
       "      <td>Friday</td>\n",
       "      <td>70801</td>\n",
       "    </tr>\n",
       "    <tr>\n",
       "      <th>8</th>\n",
       "      <td>member</td>\n",
       "      <td>Monday</td>\n",
       "      <td>70485</td>\n",
       "    </tr>\n",
       "    <tr>\n",
       "      <th>7</th>\n",
       "      <td>member</td>\n",
       "      <td>Friday</td>\n",
       "      <td>69612</td>\n",
       "    </tr>\n",
       "    <tr>\n",
       "      <th>9</th>\n",
       "      <td>member</td>\n",
       "      <td>Saturday</td>\n",
       "      <td>66936</td>\n",
       "    </tr>\n",
       "    <tr>\n",
       "      <th>4</th>\n",
       "      <td>casual</td>\n",
       "      <td>Thursday</td>\n",
       "      <td>60216</td>\n",
       "    </tr>\n",
       "    <tr>\n",
       "      <th>10</th>\n",
       "      <td>member</td>\n",
       "      <td>Sunday</td>\n",
       "      <td>60119</td>\n",
       "    </tr>\n",
       "    <tr>\n",
       "      <th>1</th>\n",
       "      <td>casual</td>\n",
       "      <td>Monday</td>\n",
       "      <td>58797</td>\n",
       "    </tr>\n",
       "    <tr>\n",
       "      <th>5</th>\n",
       "      <td>casual</td>\n",
       "      <td>Tuesday</td>\n",
       "      <td>55891</td>\n",
       "    </tr>\n",
       "    <tr>\n",
       "      <th>6</th>\n",
       "      <td>casual</td>\n",
       "      <td>Wednesday</td>\n",
       "      <td>55679</td>\n",
       "    </tr>\n",
       "  </tbody>\n",
       "</table>\n",
       "</div>"
      ],
      "text/plain": [
       "   member_casual day_of_week   count\n",
       "2         casual    Saturday  106647\n",
       "3         casual      Sunday   91969\n",
       "12        member     Tuesday   79177\n",
       "13        member   Wednesday   77757\n",
       "11        member    Thursday   75914\n",
       "0         casual      Friday   70801\n",
       "8         member      Monday   70485\n",
       "7         member      Friday   69612\n",
       "9         member    Saturday   66936\n",
       "4         casual    Thursday   60216\n",
       "10        member      Sunday   60119\n",
       "1         casual      Monday   58797\n",
       "5         casual     Tuesday   55891\n",
       "6         casual   Wednesday   55679"
      ]
     },
     "execution_count": 29,
     "metadata": {},
     "output_type": "execute_result"
    }
   ],
   "source": [
    "sample_df.groupby(['member_casual', 'day_of_week'])['member_casual'] \\\n",
    "        .count() \\\n",
    "        .reset_index(name='count') \\\n",
    "        .sort_values(['count'], ascending = False)"
   ]
  },
  {
   "cell_type": "markdown",
   "id": "416916f9",
   "metadata": {},
   "source": [
    "### Visualizando as distribuições dos dados"
   ]
  },
  {
   "cell_type": "code",
   "execution_count": 52,
   "id": "4b1d146f",
   "metadata": {},
   "outputs": [
    {
     "data": {
      "image/png": "[encoded data removed]",
      "text/plain": [
       "<Figure size 1080x360 with 3 Axes>"
      ]
     },
     "metadata": {
      "needs_background": "light"
     },
     "output_type": "display_data"
    }
   ],
   "source": [
    "fig, axes = plt.subplots(1, 3, figsize=(15, 5), sharey=True)\n",
    "fig.suptitle('Distribuições')\n",
    "\n",
    "sns.histplot(ax=axes[0], x=sample_df['distance_km'], bins=50, data=sample_df)\n",
    "axes[0].set_title('Distancia em kilometros')\n",
    "\n",
    "sns.histplot(ax=axes[1], x=sample_df['distance_meters'], bins=50, data=sample_df)\n",
    "axes[1].set_title('Distância em metros')\n",
    "\n",
    "sns.histplot(ax=axes[2], x=sample_df['ride_length'], bins=range(0, 125), data=sample_df)\n",
    "axes[2].set_title('Duração da viagem')\n",
    "\n",
    "plt.show()"
   ]
  },
  {
   "cell_type": "markdown",
   "id": "6a9375ce",
   "metadata": {},
   "source": [
    "### Análise de Outliers"
   ]
  },
  {
   "cell_type": "code",
   "execution_count": 28,
   "id": "74108152",
   "metadata": {},
   "outputs": [
    {
     "data": {
      "text/plain": [
       "index                  0\n",
       "start_lat          77237\n",
       "start_lng          28666\n",
       "end_lat            77178\n",
       "end_lng            29312\n",
       "ride_length        71870\n",
       "hour_of_day        15758\n",
       "distance_km        55835\n",
       "distance_meters    55835\n",
       "dtype: int64"
      ]
     },
     "execution_count": 28,
     "metadata": {},
     "output_type": "execute_result"
    }
   ],
   "source": [
    "#Numero de outliers por coluna\n",
    "Q1 = sample_df.quantile(0.25)\n",
    "Q3 = sample_df.quantile(0.75)\n",
    "IQR = Q3 - Q1\n",
    "((sample_df.select_dtypes('number') < (Q1 - 1.5 * IQR)) | (sample_df.select_dtypes('number') > (Q3 + 1.5 * IQR))).sum()"
   ]
  },
  {
   "cell_type": "code",
   "execution_count": 65,
   "id": "204ed93d",
   "metadata": {},
   "outputs": [
    {
     "data": {
      "image/png": "[encoded data removed]",
      "text/plain": [
       "<Figure size 1080x360 with 3 Axes>"
      ]
     },
     "metadata": {
      "needs_background": "light"
     },
     "output_type": "display_data"
    }
   ],
   "source": [
    "fig, axes = plt.subplots(1, 3, figsize=(15, 5), sharey=True)\n",
    "fig.suptitle('Outliers')\n",
    "\n",
    "sns.boxplot(ax=axes[0], data=sample_df['distance_km'])\n",
    "axes[0].set_title('Distancia em kilometros')\n",
    "\n",
    "sns.boxplot(ax=axes[1], data=sample_df['distance_meters'])\n",
    "axes[1].set_title('Distância em metros')\n",
    "\n",
    "sns.boxplot(ax=axes[2], data=sample_df['ride_length'])\n",
    "axes[2].set_title('Duração da viagem')\n",
    "\n",
    "plt.show()"
   ]
  },
  {
   "cell_type": "markdown",
   "id": "5bd720b1",
   "metadata": {},
   "source": [
    "Dado o número de outliers estaremos os tratando para enfim usar a média."
   ]
  },
  {
   "cell_type": "code",
   "execution_count": 29,
   "id": "daba375b",
   "metadata": {},
   "outputs": [],
   "source": [
    "cols = ['ride_length', 'distance_meters', 'distance_km']\n",
    "from numpy import percentile\n",
    "for x in cols:\n",
    "    Q3,Q1 = np.percentile(sample_df.loc[:,x],[75,25])\n",
    "    IQR = Q3-Q1\n",
    " \n",
    "    max = Q3+(1.5*IQR)\n",
    "    min = Q1-(1.5*IQR)\n",
    " \n",
    "    sample_df.loc[sample_df[x] < min,x] = np.nan\n",
    "    sample_df.loc[sample_df[x] > max,x] = np.nan"
   ]
  },
  {
   "cell_type": "code",
   "execution_count": 30,
   "id": "3ddc347d",
   "metadata": {},
   "outputs": [
    {
     "data": {
      "image/png": "[encoded data removed]",
      "text/plain": [
       "<Figure size 1080x360 with 3 Axes>"
      ]
     },
     "metadata": {
      "needs_background": "light"
     },
     "output_type": "display_data"
    }
   ],
   "source": [
    "fig, axes = plt.subplots(1, 3, figsize=(15, 5), sharey=True)\n",
    "fig.suptitle('Outliers')\n",
    "\n",
    "sns.boxplot(ax=axes[0], data=sample_df['distance_km'])\n",
    "axes[0].set_title('Distancia em kilometros')\n",
    "\n",
    "sns.boxplot(ax=axes[1], data=sample_df['distance_meters'])\n",
    "axes[1].set_title('Distância em metros')\n",
    "\n",
    "sns.boxplot(ax=axes[2], data=sample_df['ride_length'])\n",
    "axes[2].set_title('Duração da viagem')\n",
    "\n",
    "plt.show()"
   ]
  },
  {
   "cell_type": "code",
   "execution_count": 31,
   "id": "f7bd5abf",
   "metadata": {
    "scrolled": false
   },
   "outputs": [
    {
     "data": {
      "image/png": "[encoded data removed]",
      "text/plain": [
       "<Figure size 720x720 with 1 Axes>"
      ]
     },
     "metadata": {
      "needs_background": "light"
     },
     "output_type": "display_data"
    }
   ],
   "source": [
    "label_membro = ['Casual', 'Anual']\n",
    "\n",
    "plt.figure(figsize=(10,10))\n",
    "plt.title(\"Tipo de Membro x Distância de Viagem (Média em minutos)\")\n",
    "\n",
    "ax = sns.barplot(x = 'member_casual', y = 'ride_length', palette='mako', data = sample_df)\n",
    "ax.set_xticklabels(label_membro)\n",
    "\n",
    "plt.xlabel(\"Tipo de Membro\")\n",
    "plt.ylabel(\"Duração da Viagem\")\n",
    "\n",
    "for container in ax.containers:\n",
    "    ax.bar_label(container)\n",
    "\n",
    "plt.show()"
   ]
  },
  {
   "cell_type": "markdown",
   "id": "ec84508f",
   "metadata": {},
   "source": [
    "O gráfico acima demonstra que em tese membros casuais passam mais tempo pedalando do que membros pagantes anuais, mas isso pode não ser 100% preciso pois não sabemos as exatas razões para tal. Em alguns casos isso pode indicar que membros casuais e até mesmo anuais pagantes podem estar estacionados enquanto o timer do serviço continua a contar como nos registros a seguir."
   ]
  },
  {
   "cell_type": "code",
   "execution_count": 31,
   "id": "1a6be992",
   "metadata": {},
   "outputs": [
    {
     "data": {
      "text/html": [
       "<div>\n",
       "<style scoped>\n",
       "    .dataframe tbody tr th:only-of-type {\n",
       "        vertical-align: middle;\n",
       "    }\n",
       "\n",
       "    .dataframe tbody tr th {\n",
       "        vertical-align: top;\n",
       "    }\n",
       "\n",
       "    .dataframe thead th {\n",
       "        text-align: right;\n",
       "    }\n",
       "</style>\n",
       "<table border=\"1\" class=\"dataframe\">\n",
       "  <thead>\n",
       "    <tr style=\"text-align: right;\">\n",
       "      <th></th>\n",
       "      <th>index</th>\n",
       "      <th>ride_id</th>\n",
       "      <th>rideable_type</th>\n",
       "      <th>started_at</th>\n",
       "      <th>ended_at</th>\n",
       "      <th>start_lat</th>\n",
       "      <th>start_lng</th>\n",
       "      <th>end_lat</th>\n",
       "      <th>end_lng</th>\n",
       "      <th>member_casual</th>\n",
       "      <th>ride_length</th>\n",
       "      <th>day_of_week</th>\n",
       "      <th>hour_of_day</th>\n",
       "      <th>distance_km</th>\n",
       "      <th>distance_meters</th>\n",
       "    </tr>\n",
       "  </thead>\n",
       "  <tbody>\n",
       "    <tr>\n",
       "      <th>106</th>\n",
       "      <td>589122</td>\n",
       "      <td>0FCF3F78747B79EC</td>\n",
       "      <td>electric_bike</td>\n",
       "      <td>2022-05-09 18:36:04</td>\n",
       "      <td>2022-05-09 19:43:19</td>\n",
       "      <td>41.909410</td>\n",
       "      <td>-87.677549</td>\n",
       "      <td>41.910000</td>\n",
       "      <td>-87.670000</td>\n",
       "      <td>casual</td>\n",
       "      <td>67.0</td>\n",
       "      <td>Monday</td>\n",
       "      <td>18</td>\n",
       "      <td>0.644332</td>\n",
       "      <td>644.331792</td>\n",
       "    </tr>\n",
       "    <tr>\n",
       "      <th>125</th>\n",
       "      <td>163565</td>\n",
       "      <td>9C1049A91192E0E1</td>\n",
       "      <td>electric_bike</td>\n",
       "      <td>2021-09-05 22:58:19</td>\n",
       "      <td>2021-09-05 23:45:25</td>\n",
       "      <td>41.872439</td>\n",
       "      <td>-87.624076</td>\n",
       "      <td>41.872731</td>\n",
       "      <td>-87.623981</td>\n",
       "      <td>casual</td>\n",
       "      <td>47.0</td>\n",
       "      <td>Sunday</td>\n",
       "      <td>22</td>\n",
       "      <td>0.004707</td>\n",
       "      <td>4.707434</td>\n",
       "    </tr>\n",
       "    <tr>\n",
       "      <th>234</th>\n",
       "      <td>655256</td>\n",
       "      <td>0F97886C950C46BD</td>\n",
       "      <td>electric_bike</td>\n",
       "      <td>2021-08-07 15:49:07</td>\n",
       "      <td>2021-08-07 16:46:27</td>\n",
       "      <td>41.710000</td>\n",
       "      <td>-87.700000</td>\n",
       "      <td>41.700000</td>\n",
       "      <td>-87.730000</td>\n",
       "      <td>casual</td>\n",
       "      <td>57.0</td>\n",
       "      <td>Saturday</td>\n",
       "      <td>15</td>\n",
       "      <td>0.830224</td>\n",
       "      <td>830.223779</td>\n",
       "    </tr>\n",
       "    <tr>\n",
       "      <th>277</th>\n",
       "      <td>128771</td>\n",
       "      <td>17156C7AC747BF70</td>\n",
       "      <td>classic_bike</td>\n",
       "      <td>2021-06-18 15:40:27</td>\n",
       "      <td>2021-06-18 16:17:45</td>\n",
       "      <td>41.903266</td>\n",
       "      <td>-87.678435</td>\n",
       "      <td>41.926277</td>\n",
       "      <td>-87.630834</td>\n",
       "      <td>casual</td>\n",
       "      <td>37.0</td>\n",
       "      <td>Friday</td>\n",
       "      <td>15</td>\n",
       "      <td>0.840554</td>\n",
       "      <td>840.553984</td>\n",
       "    </tr>\n",
       "    <tr>\n",
       "      <th>290</th>\n",
       "      <td>282503</td>\n",
       "      <td>47E614092BF41E07</td>\n",
       "      <td>classic_bike</td>\n",
       "      <td>2021-07-12 12:13:16</td>\n",
       "      <td>2021-07-12 12:51:39</td>\n",
       "      <td>41.914027</td>\n",
       "      <td>-87.705126</td>\n",
       "      <td>41.914027</td>\n",
       "      <td>-87.705126</td>\n",
       "      <td>casual</td>\n",
       "      <td>38.0</td>\n",
       "      <td>Monday</td>\n",
       "      <td>12</td>\n",
       "      <td>0.010901</td>\n",
       "      <td>10.900966</td>\n",
       "    </tr>\n",
       "    <tr>\n",
       "      <th>...</th>\n",
       "      <td>...</td>\n",
       "      <td>...</td>\n",
       "      <td>...</td>\n",
       "      <td>...</td>\n",
       "      <td>...</td>\n",
       "      <td>...</td>\n",
       "      <td>...</td>\n",
       "      <td>...</td>\n",
       "      <td>...</td>\n",
       "      <td>...</td>\n",
       "      <td>...</td>\n",
       "      <td>...</td>\n",
       "      <td>...</td>\n",
       "      <td>...</td>\n",
       "      <td>...</td>\n",
       "    </tr>\n",
       "    <tr>\n",
       "      <th>999598</th>\n",
       "      <td>526337</td>\n",
       "      <td>4CCFF86405DE72D7</td>\n",
       "      <td>electric_bike</td>\n",
       "      <td>2021-08-30 20:49:34</td>\n",
       "      <td>2021-08-30 21:25:20</td>\n",
       "      <td>42.004599</td>\n",
       "      <td>-87.661497</td>\n",
       "      <td>41.932622</td>\n",
       "      <td>-87.636367</td>\n",
       "      <td>member</td>\n",
       "      <td>35.0</td>\n",
       "      <td>Monday</td>\n",
       "      <td>20</td>\n",
       "      <td>0.844529</td>\n",
       "      <td>844.528750</td>\n",
       "    </tr>\n",
       "    <tr>\n",
       "      <th>999622</th>\n",
       "      <td>210472</td>\n",
       "      <td>1D2826C89945EF28</td>\n",
       "      <td>electric_bike</td>\n",
       "      <td>2022-04-23 12:08:20</td>\n",
       "      <td>2022-04-23 13:12:31</td>\n",
       "      <td>41.924870</td>\n",
       "      <td>-87.714436</td>\n",
       "      <td>41.918306</td>\n",
       "      <td>-87.636282</td>\n",
       "      <td>member</td>\n",
       "      <td>64.0</td>\n",
       "      <td>Saturday</td>\n",
       "      <td>12</td>\n",
       "      <td>0.480425</td>\n",
       "      <td>480.424869</td>\n",
       "    </tr>\n",
       "    <tr>\n",
       "      <th>999676</th>\n",
       "      <td>85297</td>\n",
       "      <td>169418044F2C088D</td>\n",
       "      <td>electric_bike</td>\n",
       "      <td>2022-03-13 16:55:17</td>\n",
       "      <td>2022-03-13 20:13:25</td>\n",
       "      <td>41.891515</td>\n",
       "      <td>-87.626875</td>\n",
       "      <td>41.891466</td>\n",
       "      <td>-87.626761</td>\n",
       "      <td>member</td>\n",
       "      <td>198.0</td>\n",
       "      <td>Sunday</td>\n",
       "      <td>16</td>\n",
       "      <td>0.012100</td>\n",
       "      <td>12.099997</td>\n",
       "    </tr>\n",
       "    <tr>\n",
       "      <th>999677</th>\n",
       "      <td>95271</td>\n",
       "      <td>E406043237BCC319</td>\n",
       "      <td>classic_bike</td>\n",
       "      <td>2021-07-18 07:45:16</td>\n",
       "      <td>2021-07-18 08:27:18</td>\n",
       "      <td>41.857611</td>\n",
       "      <td>-87.619407</td>\n",
       "      <td>41.925858</td>\n",
       "      <td>-87.638973</td>\n",
       "      <td>member</td>\n",
       "      <td>42.0</td>\n",
       "      <td>Sunday</td>\n",
       "      <td>7</td>\n",
       "      <td>0.607647</td>\n",
       "      <td>607.647256</td>\n",
       "    </tr>\n",
       "    <tr>\n",
       "      <th>999896</th>\n",
       "      <td>411196</td>\n",
       "      <td>1B97D044F7470DF8</td>\n",
       "      <td>classic_bike</td>\n",
       "      <td>2021-10-23 18:06:22</td>\n",
       "      <td>2021-10-23 18:42:56</td>\n",
       "      <td>41.889187</td>\n",
       "      <td>-87.627754</td>\n",
       "      <td>41.918440</td>\n",
       "      <td>-87.652220</td>\n",
       "      <td>member</td>\n",
       "      <td>36.0</td>\n",
       "      <td>Saturday</td>\n",
       "      <td>18</td>\n",
       "      <td>0.865442</td>\n",
       "      <td>865.442177</td>\n",
       "    </tr>\n",
       "  </tbody>\n",
       "</table>\n",
       "<p>15729 rows × 15 columns</p>\n",
       "</div>"
      ],
      "text/plain": [
       "         index           ride_id  rideable_type          started_at  \\\n",
       "106     589122  0FCF3F78747B79EC  electric_bike 2022-05-09 18:36:04   \n",
       "125     163565  9C1049A91192E0E1  electric_bike 2021-09-05 22:58:19   \n",
       "234     655256  0F97886C950C46BD  electric_bike 2021-08-07 15:49:07   \n",
       "277     128771  17156C7AC747BF70   classic_bike 2021-06-18 15:40:27   \n",
       "290     282503  47E614092BF41E07   classic_bike 2021-07-12 12:13:16   \n",
       "...        ...               ...            ...                 ...   \n",
       "999598  526337  4CCFF86405DE72D7  electric_bike 2021-08-30 20:49:34   \n",
       "999622  210472  1D2826C89945EF28  electric_bike 2022-04-23 12:08:20   \n",
       "999676   85297  169418044F2C088D  electric_bike 2022-03-13 16:55:17   \n",
       "999677   95271  E406043237BCC319   classic_bike 2021-07-18 07:45:16   \n",
       "999896  411196  1B97D044F7470DF8   classic_bike 2021-10-23 18:06:22   \n",
       "\n",
       "                  ended_at  start_lat  start_lng    end_lat    end_lng  \\\n",
       "106    2022-05-09 19:43:19  41.909410 -87.677549  41.910000 -87.670000   \n",
       "125    2021-09-05 23:45:25  41.872439 -87.624076  41.872731 -87.623981   \n",
       "234    2021-08-07 16:46:27  41.710000 -87.700000  41.700000 -87.730000   \n",
       "277    2021-06-18 16:17:45  41.903266 -87.678435  41.926277 -87.630834   \n",
       "290    2021-07-12 12:51:39  41.914027 -87.705126  41.914027 -87.705126   \n",
       "...                    ...        ...        ...        ...        ...   \n",
       "999598 2021-08-30 21:25:20  42.004599 -87.661497  41.932622 -87.636367   \n",
       "999622 2022-04-23 13:12:31  41.924870 -87.714436  41.918306 -87.636282   \n",
       "999676 2022-03-13 20:13:25  41.891515 -87.626875  41.891466 -87.626761   \n",
       "999677 2021-07-18 08:27:18  41.857611 -87.619407  41.925858 -87.638973   \n",
       "999896 2021-10-23 18:42:56  41.889187 -87.627754  41.918440 -87.652220   \n",
       "\n",
       "       member_casual  ride_length day_of_week  hour_of_day  distance_km  \\\n",
       "106           casual         67.0      Monday           18     0.644332   \n",
       "125           casual         47.0      Sunday           22     0.004707   \n",
       "234           casual         57.0    Saturday           15     0.830224   \n",
       "277           casual         37.0      Friday           15     0.840554   \n",
       "290           casual         38.0      Monday           12     0.010901   \n",
       "...              ...          ...         ...          ...          ...   \n",
       "999598        member         35.0      Monday           20     0.844529   \n",
       "999622        member         64.0    Saturday           12     0.480425   \n",
       "999676        member        198.0      Sunday           16     0.012100   \n",
       "999677        member         42.0      Sunday            7     0.607647   \n",
       "999896        member         36.0    Saturday           18     0.865442   \n",
       "\n",
       "        distance_meters  \n",
       "106          644.331792  \n",
       "125            4.707434  \n",
       "234          830.223779  \n",
       "277          840.553984  \n",
       "290           10.900966  \n",
       "...                 ...  \n",
       "999598       844.528750  \n",
       "999622       480.424869  \n",
       "999676        12.099997  \n",
       "999677       607.647256  \n",
       "999896       865.442177  \n",
       "\n",
       "[15729 rows x 15 columns]"
      ]
     },
     "execution_count": 31,
     "metadata": {},
     "output_type": "execute_result"
    }
   ],
   "source": [
    "sample_df[(sample_df['ride_length'] > 30.0)\n",
    "         & (sample_df['distance_km'] < 1)]"
   ]
  },
  {
   "cell_type": "markdown",
   "id": "243dc63f",
   "metadata": {},
   "source": [
    "Nos registros acima podemos ver que diversas linhas possuem tempos de viagem extensos se comparados às distâncias percorridas, isto pode enriquecer a hipótese de que tanto membros casuais quanto pagantes passam boa parte do tempo estacionados."
   ]
  },
  {
   "cell_type": "code",
   "execution_count": 50,
   "id": "44f2b4ef",
   "metadata": {},
   "outputs": [
    {
     "data": {
      "image/png": "[encoded data removed]",
      "text/plain": [
       "<Figure size 936x936 with 1 Axes>"
      ]
     },
     "metadata": {
      "needs_background": "light"
     },
     "output_type": "display_data"
    }
   ],
   "source": [
    "order = [\"Monday\", \"Tuesday\", \"Wednesday\", \"Thursday\", \"Friday\", \"Saturday\", \"Sunday\"]\n",
    "labels = ['Segunda', 'Terça', 'Quarta', 'Quinta', 'Sexta', 'Sábado', 'Domingo']\n",
    "\n",
    "plt.figure(figsize=(13,13))\n",
    "plt.title(\"Média da Duração de Viagem dos Membros Durante a Semana\")\n",
    "\n",
    "ax = sns.barplot(x = 'day_of_week', y = 'ride_length', hue = 'member_casual', palette='mako', \n",
    "                 order=order, ci = None, data = sample_df)\n",
    "\n",
    "ax.set_xticklabels(labels)\n",
    "ax.legend(labels=['Casual', 'Anual'])\n",
    "\n",
    "plt.xlabel(\"Duração da Viagem\")\n",
    "plt.ylabel(\"Dia da Semana\")\n",
    "\n",
    "for container in ax.containers:\n",
    "    ax.bar_label(container)"
   ]
  },
  {
   "cell_type": "code",
   "execution_count": 49,
   "id": "48f76557",
   "metadata": {},
   "outputs": [
    {
     "data": {
      "image/png": "[encoded data removed]",
      "text/plain": [
       "<Figure size 432x288 with 1 Axes>"
      ]
     },
     "metadata": {
      "needs_background": "light"
     },
     "output_type": "display_data"
    }
   ],
   "source": [
    "label_bike = ['Elétrica', 'Clássica', 'Ancoragem']\n",
    "plt.title(\"Média do Tempo de Viagem por Tipo de Bicicleta\")\n",
    "\n",
    "ax = sns.barplot(x = 'rideable_type', y = 'ride_length', hue = 'member_casual', palette='mako', data = sample_df, ci = None)\n",
    "\n",
    "ax.legend(labels=['Casual', 'Anual'])\n",
    "ax.set_xticklabels(label_bike)\n",
    "\n",
    "plt.xlabel(\"Tipo de Bicicleta\")\n",
    "plt.ylabel(\"Duração da Viagem\")\n",
    "\n",
    "for container in ax.containers:\n",
    "    ax.bar_label(container)"
   ]
  },
  {
   "cell_type": "code",
   "execution_count": 129,
   "id": "e4ae33c5",
   "metadata": {},
   "outputs": [
    {
     "data": {
      "image/png": "[encoded data removed]",
      "text/plain": [
       "<Figure size 720x720 with 1 Axes>"
      ]
     },
     "metadata": {
      "needs_background": "light"
     },
     "output_type": "display_data"
    }
   ],
   "source": [
    "order = [\"Monday\", \"Tuesday\", \"Wednesday\", \"Thursday\", \"Friday\", \"Saturday\", \"Sunday\"]\n",
    "labels = ['Segunda', 'Terça', 'Quarta', 'Quinta', 'Sexta', 'Sábado', 'Domingo']\n",
    "\n",
    "plt.figure(figsize=(10,10))\n",
    "plt.title(\"Contagem de Membros por Dia\")\n",
    "\n",
    "ax = sns.countplot(x = 'day_of_week', hue = 'member_casual', palette='mako', order=order, data = sample_df)\n",
    "ax.set_xticklabels(labels)\n",
    "ax.legend(labels=['Casual', 'Anual'])\n",
    "\n",
    "plt.xlabel(\"Dia da Semana\")\n",
    "plt.ylabel(\"Número de Membros\")\n",
    "\n",
    "for container in ax.containers:\n",
    "    ax.bar_label(container)"
   ]
  },
  {
   "cell_type": "markdown",
   "id": "8eed4a72",
   "metadata": {},
   "source": [
    "A contagem de membros por dia da semana indica que durante os finais de semana membros casuais são quase o dobro de membros pagantes anuais. Esse pode ser um ponto a ser explorado no futuro pelas campanhas de marketing para atrair novos membros."
   ]
  },
  {
   "cell_type": "code",
   "execution_count": 142,
   "id": "6893f7b1",
   "metadata": {},
   "outputs": [
    {
     "data": {
      "text/plain": [
       "Text(0.5, 0, 'Hora do Dia')"
      ]
     },
     "execution_count": 142,
     "metadata": {},
     "output_type": "execute_result"
    },
    {
     "data": {
      "image/png": "[encoded data removed]",
      "text/plain": [
       "<Figure size 1440x720 with 1 Axes>"
      ]
     },
     "metadata": {
      "needs_background": "light"
     },
     "output_type": "display_data"
    }
   ],
   "source": [
    "plt.figure(figsize=(20,10))\n",
    "plt.title(\"Contagem de Membros por Hora\")\n",
    "\n",
    "ax = sns.countplot(x = 'hour_of_day', hue = 'member_casual', palette='mako', data = sample_df)\n",
    "ax.legend(labels=['Casual', 'Anual'])\n",
    "\n",
    "plt.ylabel(\"Número de Membros\")\n",
    "plt.xlabel(\"Hora do Dia\")\n"
   ]
  },
  {
   "cell_type": "markdown",
   "id": "35c9ef36",
   "metadata": {},
   "source": [
    "Aqui temos 2 períodos onde o fluxo de usuários aumenta, das 5 as 8 da manhã e das 15 as 17. Este fenômeno pode ser explicado por serem horários onde as pessoas estão geralmente se deslocando para o trabalho ou vindo dele. Também pode-se observar que durante grande parte do dia o número de membros casuais supera o de membros pagantes anuais exceto nos horários de pico."
   ]
  },
  {
   "cell_type": "code",
   "execution_count": 143,
   "id": "a21d4b24",
   "metadata": {},
   "outputs": [
    {
     "data": {
      "image/png": "[encoded data removed]",
      "text/plain": [
       "<Figure size 720x720 with 1 Axes>"
      ]
     },
     "metadata": {
      "needs_background": "light"
     },
     "output_type": "display_data"
    }
   ],
   "source": [
    "label_bike = ['Elétrica', 'Clássica', 'Ancoragem']\n",
    "plt.figure(figsize=(10,10))\n",
    "plt.title(\"Contagem de Tipos de Bicicletas\")\n",
    "\n",
    "ax = sns.countplot(x = 'rideable_type', hue = 'member_casual', palette='mako', data = sample_df)\n",
    "ax.legend(labels=['Casual', 'Anual'])\n",
    "ax.set_xticklabels(label_bike)\n",
    "\n",
    "plt.ylabel(\"Número de Membros\")\n",
    "plt.xlabel(\"Tipo de Bicicleta\")\n",
    "\n",
    "for container in ax.containers:\n",
    "    ax.bar_label(container)"
   ]
  },
  {
   "cell_type": "markdown",
   "id": "76a36131",
   "metadata": {},
   "source": [
    "Aqui vemos que membros pagantes anuais não usam bicicletas ancoradas, mas por outro lado, eles utilizam bicicletas comuns muito mais do que os membros casuais. Isto pode nos levar a uma estratégia envolvendo algum benefício aos que utilizam bicicletas ancoradas ou algo que transforme os usuários de bicicletas comuns em membros pagantes anuais."
   ]
  },
  {
   "cell_type": "code",
   "execution_count": 47,
   "id": "ef889c9f",
   "metadata": {},
   "outputs": [
    {
     "data": {
      "image/png": "[encoded data removed]",
      "text/plain": [
       "<Figure size 720x720 with 1 Axes>"
      ]
     },
     "metadata": {
      "needs_background": "light"
     },
     "output_type": "display_data"
    }
   ],
   "source": [
    "label_membro = ['Casual', 'Anual']\n",
    "\n",
    "plt.figure(figsize=(10,10))\n",
    "plt.title(\"Média da Distância por Tipo de Membro\")\n",
    "\n",
    "ax = sns.barplot(x = 'member_casual', y = 'distance_meters', palette='mako', hue = 'member_casual', \n",
    "                 ci = None, data = sample_df)\n",
    "ax.legend(labels=['Casual', 'Anual'])\n",
    "ax.set_xticklabels(label_membro)\n",
    "\n",
    "plt.ylabel(\"Distância em metros\")\n",
    "plt.xlabel(\"Tipo de Membro\")\n",
    "\n",
    "for container in ax.containers:\n",
    "    ax.bar_label(container)"
   ]
  },
  {
   "cell_type": "markdown",
   "id": "1b428c3f",
   "metadata": {},
   "source": [
    "Quando falamos de distâncias, membros casuais viajam um pouco mais do que os pagantes anuais."
   ]
  },
  {
   "cell_type": "code",
   "execution_count": 43,
   "id": "3ed2bc17",
   "metadata": {},
   "outputs": [
    {
     "data": {
      "image/png": "[encoded data removed]",
      "text/plain": [
       "<Figure size 720x720 with 1 Axes>"
      ]
     },
     "metadata": {
      "needs_background": "light"
     },
     "output_type": "display_data"
    }
   ],
   "source": [
    "plt.figure(figsize=(10,10))\n",
    "plt.title(\"Média de Distância Percorrida por Tipo de Membros e por Tipo de Bicicletas\")\n",
    "\n",
    "ax = sns.barplot(x = 'member_casual', y = 'distance_meters', palette='mako', hue = 'rideable_type', \n",
    "                 ci = None, data = sample_df)\n",
    "ax.legend(labels=['Elétrica', 'Clássica', 'Ancoragem'], loc=(0.8, 0.8))\n",
    "\n",
    "plt.ylabel(\"Distância em metros\")\n",
    "plt.xlabel(\"Tipo de Membro\")\n",
    "\n",
    "for container in ax.containers:\n",
    "    ax.bar_label(container)\n",
    "\n"
   ]
  },
  {
   "cell_type": "markdown",
   "id": "3cf7b0bc",
   "metadata": {},
   "source": [
    "Aprofundando a busca podemos ver que os membros percorrem distâncias maiores com bicicletas comuns quando comparadas aos outros tipos."
   ]
  },
  {
   "cell_type": "code",
   "execution_count": 46,
   "id": "d880030b",
   "metadata": {},
   "outputs": [
    {
     "data": {
      "image/png": "[encoded data removed]",
      "text/plain": [
       "<Figure size 1080x360 with 1 Axes>"
      ]
     },
     "metadata": {
      "needs_background": "light"
     },
     "output_type": "display_data"
    }
   ],
   "source": [
    "plt.figure(figsize=(15,5))\n",
    "plt.title(\"Média de Distância por Dia da Semana\")\n",
    "\n",
    "order = [\"Monday\", \"Tuesday\", \"Wednesday\", \"Thursday\", \"Friday\", \"Saturday\", \"Sunday\"]\n",
    "labels = ['Segunda', 'Terça', 'Quarta', 'Quinta', 'Sexta', 'Sábado', 'Domingo']\n",
    "\n",
    "ax = sns.barplot(x = 'day_of_week', y = 'distance_meters', palette='mako', hue = 'member_casual', \n",
    "                 ci = None, order=order, data = sample_df)\n",
    "\n",
    "ax.set_xticklabels(labels)\n",
    "plt.legend(bbox_to_anchor = (0.1, 1.15), labels=['Casual', 'Anual'])\n",
    "plt.ylabel(\"Distância em metros\")\n",
    "plt.xlabel(\"Dia da Semana\")\n",
    "\n",
    "for container in ax.containers:\n",
    "    ax.bar_label(container)"
   ]
  },
  {
   "cell_type": "markdown",
   "id": "c7f22f4b",
   "metadata": {},
   "source": [
    "Durante toda a semana membros casuais tem uma maior distância percorrida comparada com os fins de semana."
   ]
  },
  {
   "cell_type": "markdown",
   "id": "6ba4c7ca",
   "metadata": {},
   "source": [
    "### Gráficos detalhados por tipo de bicicleta"
   ]
  },
  {
   "cell_type": "code",
   "execution_count": 32,
   "id": "91badf37",
   "metadata": {},
   "outputs": [],
   "source": [
    "sample_df_bike = sample_df[['day_of_week', 'hour_of_day', 'ride_length', 'distance_km', 'distance_meters', 'rideable_type']].set_index('rideable_type')\n",
    "\n",
    "electric = sample_df_bike.loc['electric_bike']\n",
    "docked = sample_df_bike.loc['docked_bike']\n",
    "classic = sample_df_bike.loc['classic_bike']"
   ]
  },
  {
   "cell_type": "code",
   "execution_count": 33,
   "id": "b1928888",
   "metadata": {},
   "outputs": [
    {
     "data": {
      "image/png": "[encoded data removed]",
      "text/plain": [
       "<Figure size 720x360 with 1 Axes>"
      ]
     },
     "metadata": {
      "needs_background": "light"
     },
     "output_type": "display_data"
    }
   ],
   "source": [
    "#electric\n",
    "order = [\"Monday\", \"Tuesday\", \"Wednesday\", \"Thursday\", \"Friday\", \"Saturday\", \"Sunday\"]\n",
    "labels = ['Segunda', 'Terça', 'Quarta', 'Quinta', 'Sexta', 'Sábado', 'Domingo']\n",
    "\n",
    "plt.figure(figsize=(10,5))\n",
    "plt.title('Média da Distancia em Metros por Dia da Semana em Bicicletas Elétricas')\n",
    "\n",
    "ax = sns.barplot(x = electric['day_of_week'], y = electric['distance_meters'], palette='mako', \n",
    "                 ci=None, order=order)\n",
    "ax.set_xticklabels(labels)\n",
    "plt.ylabel(\"Distância em metros\")\n",
    "plt.xlabel(\"Dia da Semana\")\n",
    "\n",
    "for container in ax.containers:\n",
    "    ax.bar_label(container)\n"
   ]
  },
  {
   "cell_type": "code",
   "execution_count": 34,
   "id": "000ca53f",
   "metadata": {},
   "outputs": [
    {
     "data": {
      "image/png": "[encoded data removed]",
      "text/plain": [
       "<Figure size 720x360 with 1 Axes>"
      ]
     },
     "metadata": {
      "needs_background": "light"
     },
     "output_type": "display_data"
    }
   ],
   "source": [
    "#docked\n",
    "order = [\"Monday\", \"Tuesday\", \"Wednesday\", \"Thursday\", \"Friday\", \"Saturday\", \"Sunday\"]\n",
    "labels = ['Segunda', 'Terça', 'Quarta', 'Quinta', 'Sexta', 'Sábado', 'Domingo']\n",
    "\n",
    "plt.figure(figsize=(10,5))\n",
    "plt.title('Média da Distância em Metros por Dia da Semana em Bicicletas Ancoráveis')\n",
    "\n",
    "ax = sns.barplot(x = docked['day_of_week'], y = docked['distance_meters'], palette='mako', \n",
    "                 ci=None, order=order)\n",
    "plt.ylabel(\"Distância em metros\")\n",
    "plt.xlabel(\"Dia da Semana\")\n",
    "ax.set_xticklabels(labels)\n",
    "\n",
    "for container in ax.containers:\n",
    "    ax.bar_label(container)"
   ]
  },
  {
   "cell_type": "code",
   "execution_count": 45,
   "id": "0f1a4b2f",
   "metadata": {},
   "outputs": [
    {
     "data": {
      "image/png": "[encoded data removed]",
      "text/plain": [
       "<Figure size 720x360 with 1 Axes>"
      ]
     },
     "metadata": {
      "needs_background": "light"
     },
     "output_type": "display_data"
    }
   ],
   "source": [
    "#classic\n",
    "order = [\"Monday\", \"Tuesday\", \"Wednesday\", \"Thursday\", \"Friday\", \"Saturday\", \"Sunday\"]\n",
    "labels = ['Segunda', 'Terça', 'Quarta', 'Quinta', 'Sexta', 'Sábado', 'Domingo']\n",
    "\n",
    "plt.figure(figsize=(10,5))\n",
    "plt.title('Média da Distância em Metros por Dia da Semana em Bicicletas Comuns')\n",
    "\n",
    "ax = sns.barplot(x = classic['day_of_week'], y = classic['distance_meters'], palette='mako', \n",
    "                 ci=None, order=order)\n",
    "ax.set_xticklabels(labels)\n",
    "plt.ylabel(\"Distância em metros\")\n",
    "plt.xlabel(\"Dia da Semana\")\n",
    "\n",
    "for container in ax.containers:\n",
    "    ax.bar_label(container)\n"
   ]
  },
  {
   "cell_type": "markdown",
   "id": "16b5cfc3",
   "metadata": {},
   "source": [
    "### Gráficos detalhados por tipo de usuário"
   ]
  },
  {
   "cell_type": "code",
   "execution_count": 36,
   "id": "fd53fe10",
   "metadata": {},
   "outputs": [],
   "source": [
    "sample_df_member = sample_df[['day_of_week', 'hour_of_day', 'ride_length', 'distance_km', \n",
    "                              'distance_meters', 'member_casual']].set_index('member_casual')\n",
    "\n",
    "casual = sample_df_member.loc['casual']\n",
    "member = sample_df_member.loc['member']"
   ]
  },
  {
   "cell_type": "code",
   "execution_count": 44,
   "id": "0eb911c6",
   "metadata": {},
   "outputs": [
    {
     "data": {
      "image/png": "[encoded data removed]",
      "text/plain": [
       "<Figure size 720x360 with 1 Axes>"
      ]
     },
     "metadata": {
      "needs_background": "light"
     },
     "output_type": "display_data"
    }
   ],
   "source": [
    "#membros casuais\n",
    "order = [\"Monday\", \"Tuesday\", \"Wednesday\", \"Thursday\", \"Friday\", \"Saturday\", \"Sunday\"]\n",
    "labels = ['Segunda', 'Terça', 'Quarta', 'Quinta', 'Sexta', 'Sábado', 'Domingo']\n",
    "\n",
    "plt.figure(figsize=(10,5))\n",
    "plt.title('Média da Distancia em Metros por Dia da Semana de Membros Casuais')\n",
    "\n",
    "ax = sns.barplot(x = casual['day_of_week'], y = casual['distance_meters'], palette='mako', \n",
    "                 ci=None, order=order)\n",
    "ax.set_xticklabels(labels)\n",
    "plt.ylabel(\"Distância em metros\")\n",
    "plt.xlabel(\"Dia da Semana\")\n",
    "\n",
    "for container in ax.containers:\n",
    "    ax.bar_label(container)"
   ]
  },
  {
   "cell_type": "code",
   "execution_count": 97,
   "id": "f0609e05",
   "metadata": {},
   "outputs": [
    {
     "data": {
      "image/png": "[encoded data removed]",
      "text/plain": [
       "<Figure size 1440x720 with 1 Axes>"
      ]
     },
     "metadata": {
      "needs_background": "light"
     },
     "output_type": "display_data"
    }
   ],
   "source": [
    "plt.figure(figsize=(20,10))\n",
    "plt.title(\"Número de Membros Casuais por Hora\")\n",
    "\n",
    "ax = sns.countplot(x = 'hour_of_day', palette='mako', data = casual)\n",
    "plt.ylabel(\"Número de Membros Casuais\")\n",
    "plt.xlabel(\"Hora do Dia\")\n",
    "\n",
    "for container in ax.containers:\n",
    "    ax.bar_label(container)"
   ]
  },
  {
   "cell_type": "code",
   "execution_count": 38,
   "id": "27872c3f",
   "metadata": {},
   "outputs": [
    {
     "data": {
      "image/png": "[encoded data removed]",
      "text/plain": [
       "<Figure size 1440x360 with 1 Axes>"
      ]
     },
     "metadata": {
      "needs_background": "light"
     },
     "output_type": "display_data"
    }
   ],
   "source": [
    "#membros pagantes anuais\n",
    "order = [\"Monday\", \"Tuesday\", \"Wednesday\", \"Thursday\", \"Friday\", \"Saturday\", \"Sunday\"]\n",
    "labels = ['Segunda', 'Terça', 'Quarta', 'Quinta', 'Sexta', 'Sábado', 'Domingo']\n",
    "\n",
    "plt.figure(figsize=(20,5))\n",
    "plt.title('Mediana da Distancia em Metros por Dia da Semana de Membros Pagantes Anuais')\n",
    "\n",
    "ax = sns.barplot(x = member['day_of_week'], y = member['distance_meters'], palette='mako', \n",
    "                 ci=None, order=order)\n",
    "ax.set_xticklabels(labels)\n",
    "plt.ylabel(\"Distância em metros\")\n",
    "plt.xlabel(\"Dia da Semana\")\n",
    "\n",
    "for container in ax.containers:\n",
    "    ax.bar_label(container)"
   ]
  },
  {
   "cell_type": "code",
   "execution_count": 99,
   "id": "cf75b40d",
   "metadata": {
    "scrolled": false
   },
   "outputs": [
    {
     "data": {
      "image/png": "[encoded data removed]",
      "text/plain": [
       "<Figure size 1440x720 with 1 Axes>"
      ]
     },
     "metadata": {
      "needs_background": "light"
     },
     "output_type": "display_data"
    }
   ],
   "source": [
    "plt.figure(figsize=(20,10))\n",
    "plt.title(\"Contagem de Membros Pagantes Anuais por Hora\")\n",
    "\n",
    "ax = sns.countplot(x = 'hour_of_day', palette='mako', data = member)\n",
    "plt.ylabel(\"Número de Membros\")\n",
    "plt.xlabel(\"Hora do Dia\")\n",
    "\n",
    "for container in ax.containers:\n",
    "    ax.bar_label(container)"
   ]
  },
  {
   "cell_type": "markdown",
   "id": "6235262a",
   "metadata": {},
   "source": [
    "### Observações"
   ]
  },
  {
   "cell_type": "markdown",
   "id": "77703892",
   "metadata": {},
   "source": [
    "#### As seguintes observações são baseadas na amostra que contém 1000000 registros."
   ]
  },
  {
   "cell_type": "markdown",
   "id": "3ef3cd8f",
   "metadata": {},
   "source": [
    "A duração mediana de viagem de membros pagantes anuais e membros casuais é de 11 e 15 minutos respectivamente;<br> <br>\n",
    "A distância mediana de viagem é de 4,11 kilometros para membros casuais e 3,85 kilometros para membros pagantes anuais;<br> <br>\n",
    "Membros pagantes anuais não utilizam bicicletas ancoráveis;<br> <br>\n",
    "Durante os fins de semana a quantidade de membros casuais atingiu 1066647 aos Sábados e 91969 aos Domingos o que é quase o dobro de membros anuais pagantes que contam com 66936 e 60119 nos mesmos dias."
   ]
  },
  {
   "cell_type": "markdown",
   "id": "59c955ed",
   "metadata": {},
   "source": [
    "### Deduções"
   ]
  },
  {
   "cell_type": "markdown",
   "id": "6326dab6",
   "metadata": {},
   "source": [
    "Uma pequena fatia dos membros anuais pagantes e casuais aparentam passar boa parte do tempo estacionados; <br> <br>\n",
    "Durante os fins de semana, membros casuais viajam distâncias maiores do que os anuais pagantes;<br> <br>\n",
    "Exceto fins de semana, o número de membros anuais pagantes é maior do que o de casuais, isso indica que muitos membros casuais apenas utilizam bicicletas como lazer;<br> <br>\n",
    "Existem dois picos de usuários, um na parte da manhã (5 às 8) e outro no final da tarde (15 às 17), que podem ser explicados por serem horários onde a maioria das pessoas vão e voltam de seus trabalhos."
   ]
  },
  {
   "cell_type": "markdown",
   "id": "8273dbb7",
   "metadata": {},
   "source": [
    "# Fase de Ação\n",
    "---"
   ]
  },
  {
   "cell_type": "markdown",
   "id": "ce9ac539",
   "metadata": {},
   "source": [
    "### Conclusão"
   ]
  },
  {
   "cell_type": "markdown",
   "id": "4606230a",
   "metadata": {},
   "source": [
    "Nesta análise tivemos alguns pontos que se sobressaíram, o número alto de membros casuais durante os fins de semana, a falta de membros pagantes anuais utilizando bicicletas ancoráveis, a grande quantidade de membros tanto casuais quanto pagantes anuais que utilizam bicicletas elétricas e por fim que alguns usuários passam boa parte do tempo estacionados enquanto o cronômetro segue a contar."
   ]
  },
  {
   "cell_type": "markdown",
   "id": "3cc1c085",
   "metadata": {},
   "source": [
    "### Recomendações"
   ]
  },
  {
   "cell_type": "markdown",
   "id": "7fd41a6d",
   "metadata": {},
   "source": [
    "1. Criar um segmento de assinatura que seja mais benéfico para os finais de semana, como por exemplo preços menores ou programa de milhagens que aumenta apenas neste período; <br><br>\n",
    "2. Campanha onde o alvo são bicicletas ancoráveis, mesmo que não sejam uma grande fatia de usuários, elas podem abrir portas para novas oportunidades pois fora constatado que membros pagantes anuais não as utilizam; <br><br>\n",
    "3. Com a crescente das bicicletas elétricas, pode ser uma boa ideia criar campanhas ecologicamente responsáveis nas mídias sociais as envolvendo, talvez até em parceria com outras marcas que também são eco-friendly; <br><br>\n",
    "4. Incentivar os usuários através de campanhas a utilizarem as bicicletas em horários variados a fim de captar usuários com perfis de uso diferentes."
   ]
  }
 ],
 "metadata": {
  "kernelspec": {
   "display_name": "Python 3 (ipykernel)",
   "language": "python",
   "name": "python3"
  },
  "language_info": {
   "codemirror_mode": {
    "name": "ipython",
    "version": 3
   },
   "file_extension": ".py",
   "mimetype": "text/x-python",
   "name": "python",
   "nbconvert_exporter": "python",
   "pygments_lexer": "ipython3",
   "version": "3.9.12"
  }
 },
 "nbformat": 4,
 "nbformat_minor": 5
}
